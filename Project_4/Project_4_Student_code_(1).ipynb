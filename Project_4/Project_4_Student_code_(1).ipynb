{
  "nbformat": 4,
  "nbformat_minor": 0,
  "metadata": {
    "colab": {
      "name": "Project_4_Student_code (1).ipynb",
      "provenance": [],
      "collapsed_sections": []
    },
    "kernelspec": {
      "display_name": "Python (My ML2 Kernel)",
      "language": "python",
      "name": "ml2"
    },
    "language_info": {
      "codemirror_mode": {
        "name": "ipython",
        "version": 3
      },
      "file_extension": ".py",
      "mimetype": "text/x-python",
      "name": "python",
      "nbconvert_exporter": "python",
      "pygments_lexer": "ipython3",
      "version": "3.8.12"
    }
  },
  "cells": [
    {
      "cell_type": "markdown",
      "metadata": {
        "id": "NiZYmbLsCx8C"
      },
      "source": [
        "#Student Name: \n",
        "#ECE 595 Machine Learning II\n",
        "#Project 4: Adversarial Machine Learning - Student Code"
      ]
    },
    {
      "cell_type": "code",
      "metadata": {
        "id": "ZH3b6I2oq_6i",
        "colab": {
          "base_uri": "https://localhost:8080/"
        },
        "outputId": "8067de51-e7a1-4ec6-8db8-002f7c8b2ff5"
      },
      "source": [
        "#Install Cleverhans (version Cleverhans 2.1.0 is most compatable with Python 2.x)\n",
        "%tensorflow_version 1.x\n",
        "#!pip install cleverhans==2.1.0\n"
      ],
      "execution_count": 1,
      "outputs": [
        {
          "output_type": "stream",
          "name": "stdout",
          "text": [
            "TensorFlow 1.x selected.\n"
          ]
        }
      ]
    },
    {
      "cell_type": "code",
      "metadata": {
        "id": "fNopUuFjxp7U",
        "colab": {
          "base_uri": "https://localhost:8080/"
        },
        "outputId": "406ad547-8ae4-4603-b354-e061353a9efd"
      },
      "source": [
        "from keras.datasets import mnist\n",
        "from keras import Sequential\n",
        "from keras.models import load_model\n",
        "from keras.layers import Dense, BatchNormalization, InputLayer, Flatten, Conv2D, MaxPooling2D, Dropout, LSTM, Reshape\n",
        "from keras import backend\n",
        "import keras\n",
        "import tensorflow as tf\n",
        "import numpy as np\n",
        "import matplotlib.pyplot as plt\n",
        "from sklearn.decomposition import PCA\n",
        "from cleverhans.utils_keras import KerasModelWrapper\n",
        "from cleverhans.attacks import FastGradientMethod, MadryEtAl, DeepFool, CarliniWagnerL2\n",
        "import os\n",
        "from keras.callbacks import ModelCheckpoint\n"
      ],
      "execution_count": 2,
      "outputs": [
        {
          "output_type": "stream",
          "name": "stderr",
          "text": [
            "Using TensorFlow backend.\n"
          ]
        }
      ]
    },
    {
      "cell_type": "code",
      "metadata": {
        "colab": {
          "base_uri": "https://localhost:8080/"
        },
        "id": "mVKiKyxvrDio",
        "outputId": "bc491dba-a3dd-4084-ea3f-4942cc001fa4"
      },
      "source": [
        "#Import necessary packages\n",
        "import tensorflow.compat.v1 as tf; print(tf.__version__)\n",
        "from keras.datasets import mnist\n",
        "from keras import Sequential\n",
        "from tensorflow.keras.layers import Dense, BatchNormalization, Conv2D, Flatten, MaxPooling2D, Dropout, Reshape, LSTM, InputLayer\n",
        "from tensorflow.keras.models import load_model\n",
        "from keras import backend\n",
        "import keras\n",
        "import numpy as np\n",
        "import matplotlib.pyplot as plt\n",
        "from sklearn.decomposition import PCA\n",
        "from cleverhans.utils_keras import KerasModelWrapper\n",
        "from cleverhans.attacks import FastGradientMethod, MadryEtAl, DeepFool, CarliniWagnerL2\n",
        "import pandas as pd\n"
      ],
      "execution_count": null,
      "outputs": [
        {
          "output_type": "stream",
          "name": "stdout",
          "text": [
            "1.15.2\n"
          ]
        }
      ]
    },
    {
      "cell_type": "markdown",
      "metadata": {
        "id": "AR7lUPK3rL3d"
      },
      "source": [
        "#Part 1: Training a target classifier"
      ]
    },
    {
      "cell_type": "code",
      "metadata": {
        "collapsed": true,
        "id": "_8y8Id7hw66s",
        "colab": {
          "base_uri": "https://localhost:8080/"
        },
        "outputId": "543b3f6f-a317-4de5-8c7a-916a16578e1d"
      },
      "source": [
        "# Load data MNIST data and normalize to [0, 1]\n",
        "(data_train, labels_train), (data_test, labels_test) = mnist.load_data()\n",
        "data_train = (data_train)/255.; print(tf.shape(data_train))\n",
        "data_test = (data_test)/255; print(tf.shape(data_test))\n",
        "\n",
        "#Reshape training and testing data into 784-dimensional vectors \n",
        "data_train = data_train.reshape(-1,28,28,1); print(tf.shape(data_train))\n",
        "data_test = data_test.reshape(-1,28,28,1);   print(tf.shape(data_test))\n",
        "# data_train = tf.reshape(data_train,[-1,28,28,1]); print(tf.shape(data_train))\n",
        "# data_test = tf.reshape(data_test,[-1,28,28,1]); print(tf.shape(data_train))\n",
        "\n",
        "#Convert integer labels for training and testing data into one-hot vectors \n",
        "labels_train = keras.utils.np_utils.to_categorical(labels_train, num_classes=10);print(tf.shape(labels_train))\n",
        "labels_test  = keras.utils.np_utils.to_categorical(labels_test , num_classes=10);print(tf.shape(labels_test))\n",
        "\n",
        "num_samples=5000; n=28; num_channels=1; num_classes=10;"
      ],
      "execution_count": 3,
      "outputs": [
        {
          "output_type": "stream",
          "name": "stdout",
          "text": [
            "Tensor(\"Shape:0\", shape=(3,), dtype=int32)\n",
            "Tensor(\"Shape_1:0\", shape=(3,), dtype=int32)\n",
            "Tensor(\"Shape_2:0\", shape=(4,), dtype=int32)\n",
            "Tensor(\"Shape_3:0\", shape=(4,), dtype=int32)\n",
            "Tensor(\"Shape_4:0\", shape=(2,), dtype=int32)\n",
            "Tensor(\"Shape_5:0\", shape=(2,), dtype=int32)\n"
          ]
        }
      ]
    },
    {
      "cell_type": "code",
      "metadata": {
        "colab": {
          "base_uri": "https://localhost:8080/"
        },
        "id": "ENRQCteN4qd5",
        "outputId": "dc24c0b4-30f7-4b72-c4fa-405cbe801701"
      },
      "source": [
        "\n",
        "#Create classifier architecture, compile it, and train it\n",
        "def CNN():\n",
        "    model = Sequential()\n",
        "    # x=(tf.keras.Input()\n",
        "    # y=(tf.keras.layers.Dense(units=num_classes)      \n",
        "    #model.add(InputLayer(n,n,num_channels))\n",
        "    model.add(InputLayer(input_shape=(n,n,num_channels)))\n",
        "    model.add(Conv2D(256, kernel_size=(3,3), activation='relu',input_shape=(n,n,num_channels)))\n",
        "    model.add(Dropout(.3))\n",
        "    model.add(MaxPooling2D(pool_size=(2,2), strides=None, padding='Valid', data_format=None))\n",
        "    model.add(Conv2D(128, kernel_size=(3,3), \n",
        "                     activation='relu',input_shape=(n,n,num_channels)))\n",
        "    model.add(Dropout(.3))\n",
        "    model.add(MaxPooling2D(pool_size=(2,2), strides=None, \n",
        "                           padding='Valid', data_format=None))\n",
        "    model.add(Flatten())\n",
        "    model.add(Dense(100,activation='relu',kernel_initializer='normal'))\n",
        "    model.add(Dense(100,activation='relu',kernel_initializer='normal'))\n",
        "    model.add(Dense(10,activation='softmax'))\n",
        "    #model= tf.keras.Model\n",
        "    return model\n",
        "\n",
        "#Create instance of CNN model graph\n",
        "model = CNN()"
      ],
      "execution_count": 4,
      "outputs": [
        {
          "output_type": "stream",
          "name": "stdout",
          "text": [
            "WARNING:tensorflow:From /tensorflow-1.15.2/python3.7/tensorflow_core/python/ops/resource_variable_ops.py:1630: calling BaseResourceVariable.__init__ (from tensorflow.python.ops.resource_variable_ops) with constraint is deprecated and will be removed in a future version.\n",
            "Instructions for updating:\n",
            "If using Keras pass *_constraint arguments to layers.\n",
            "WARNING:tensorflow:From /tensorflow-1.15.2/python3.7/keras/backend/tensorflow_backend.py:4070: The name tf.nn.max_pool is deprecated. Please use tf.nn.max_pool2d instead.\n",
            "\n"
          ]
        }
      ]
    },
    {
      "cell_type": "code",
      "metadata": {
        "colab": {
          "base_uri": "https://localhost:8080/",
          "height": 473
        },
        "id": "V2gS0TE4KjFt",
        "outputId": "9994fe4a-c5cc-46d5-c89e-cc9fbd3833f8"
      },
      "source": [
        "\n",
        "\n",
        "#Compile model using an appropriate loss and optimizer algorithm\n",
        "model.compile(loss=tf.keras.losses.categorical_crossentropy, optimizer=tf.train.AdamOptimizer(learning_rate=0.001), metrics=['accuracy'])\n",
        "\n",
        "checkpoint_path = \"/content/drive/MyDrive/ECE595DL/Project4/cp1.ckpt\"\n",
        "checkpoint_dir = os.path.dirname(checkpoint_path)\n",
        "\n",
        "# Create a callback that saves the model's weights\n",
        "cp_callback = keras.callbacks.ModelCheckpoint(filepath=checkpoint_path,verbose=1)\n",
        "\n",
        "#Train the model and assign training meta-data to a variable\n",
        "model_mdata =  model.fit(data_train, labels_train, epochs=1,validation_data=(data_test, labels_test),batch_size=64, shuffle=True,callbacks=[cp_callback])#steps_per_epoch=1,)\n",
        "hist_df = pd.DataFrame(model_mdata.history) \n",
        "CNN_dropout_hidden_file = 'CNN_mdata.csv'\n",
        "with open(CNN_dropout_hidden_file, mode='w') as f:\n",
        "    hist_df.to_csv(f)\n",
        "\n",
        "#Print accuracy of model on testing set after training \n",
        "scores_dropout_hidden = model.evaluate(data_train, labels_train)\n",
        "model.save(\"/content/drive/MyDrive/ECE595DL/Project4/mnist_classified_CNN3.h5\")"
      ],
      "execution_count": 28,
      "outputs": [
        {
          "output_type": "stream",
          "name": "stdout",
          "text": [
            "WARNING:tensorflow:From /tensorflow-1.15.2/python3.7/keras/backend/tensorflow_backend.py:422: The name tf.global_variables is deprecated. Please use tf.compat.v1.global_variables instead.\n",
            "\n",
            "WARNING:tensorflow:From /tensorflow-1.15.2/python3.7/keras/backend/tensorflow_backend.py:431: The name tf.is_variable_initialized is deprecated. Please use tf.compat.v1.is_variable_initialized instead.\n",
            "\n",
            "WARNING:tensorflow:From /tensorflow-1.15.2/python3.7/keras/backend/tensorflow_backend.py:438: The name tf.variables_initializer is deprecated. Please use tf.compat.v1.variables_initializer instead.\n",
            "\n",
            "Train on 60000 samples, validate on 10000 samples\n",
            "Epoch 1/1\n",
            "60000/60000 [==============================] - 504s 8ms/step - loss: 0.1406 - accuracy: 0.9569 - val_loss: 0.0679 - val_accuracy: 0.9827\n",
            "\n",
            "Epoch 00001: saving model to /content/drive/MyDrive/ECE595DL/Project4/cp1.ckpt\n"
          ]
        },
        {
          "output_type": "stream",
          "name": "stderr",
          "text": [
            "/tensorflow-1.15.2/python3.7/keras/engine/saving.py:165: UserWarning: TensorFlow optimizers do not make it possible to access optimizer attributes or optimizer state after instantiation. As a result, we cannot save the optimizer as part of the model save file.You will have to compile your model again after loading it. Prefer using a Keras optimizer instead (see keras.io/optimizers).\n",
            "  'TensorFlow optimizers do not '\n"
          ]
        },
        {
          "output_type": "error",
          "ename": "NameError",
          "evalue": "ignored",
          "traceback": [
            "\u001b[0;31m---------------------------------------------------------------------------\u001b[0m",
            "\u001b[0;31mNameError\u001b[0m                                 Traceback (most recent call last)",
            "\u001b[0;32m<ipython-input-28-56be849ccb32>\u001b[0m in \u001b[0;36m<module>\u001b[0;34m()\u001b[0m\n\u001b[1;32m     12\u001b[0m \u001b[0;31m#Train the model and assign training meta-data to a variable\u001b[0m\u001b[0;34m\u001b[0m\u001b[0;34m\u001b[0m\u001b[0;34m\u001b[0m\u001b[0m\n\u001b[1;32m     13\u001b[0m \u001b[0mmodel_mdata\u001b[0m \u001b[0;34m=\u001b[0m  \u001b[0mmodel\u001b[0m\u001b[0;34m.\u001b[0m\u001b[0mfit\u001b[0m\u001b[0;34m(\u001b[0m\u001b[0mdata_train\u001b[0m\u001b[0;34m,\u001b[0m \u001b[0mlabels_train\u001b[0m\u001b[0;34m,\u001b[0m \u001b[0mepochs\u001b[0m\u001b[0;34m=\u001b[0m\u001b[0;36m1\u001b[0m\u001b[0;34m,\u001b[0m\u001b[0mvalidation_data\u001b[0m\u001b[0;34m=\u001b[0m\u001b[0;34m(\u001b[0m\u001b[0mdata_test\u001b[0m\u001b[0;34m,\u001b[0m \u001b[0mlabels_test\u001b[0m\u001b[0;34m)\u001b[0m\u001b[0;34m,\u001b[0m\u001b[0mbatch_size\u001b[0m\u001b[0;34m=\u001b[0m\u001b[0;36m64\u001b[0m\u001b[0;34m,\u001b[0m \u001b[0mshuffle\u001b[0m\u001b[0;34m=\u001b[0m\u001b[0;32mTrue\u001b[0m\u001b[0;34m,\u001b[0m\u001b[0mcallbacks\u001b[0m\u001b[0;34m=\u001b[0m\u001b[0;34m[\u001b[0m\u001b[0mcp_callback\u001b[0m\u001b[0;34m]\u001b[0m\u001b[0;34m)\u001b[0m\u001b[0;31m#steps_per_epoch=1,)\u001b[0m\u001b[0;34m\u001b[0m\u001b[0;34m\u001b[0m\u001b[0m\n\u001b[0;32m---> 14\u001b[0;31m \u001b[0mhist_df\u001b[0m \u001b[0;34m=\u001b[0m \u001b[0mpd\u001b[0m\u001b[0;34m.\u001b[0m\u001b[0mDataFrame\u001b[0m\u001b[0;34m(\u001b[0m\u001b[0mmodel_mdata\u001b[0m\u001b[0;34m.\u001b[0m\u001b[0mhistory\u001b[0m\u001b[0;34m)\u001b[0m\u001b[0;34m\u001b[0m\u001b[0;34m\u001b[0m\u001b[0m\n\u001b[0m\u001b[1;32m     15\u001b[0m \u001b[0mCNN_dropout_hidden_file\u001b[0m \u001b[0;34m=\u001b[0m \u001b[0;34m'CNN_mdata.csv'\u001b[0m\u001b[0;34m\u001b[0m\u001b[0;34m\u001b[0m\u001b[0m\n\u001b[1;32m     16\u001b[0m \u001b[0;32mwith\u001b[0m \u001b[0mopen\u001b[0m\u001b[0;34m(\u001b[0m\u001b[0mCNN_dropout_hidden_file\u001b[0m\u001b[0;34m,\u001b[0m \u001b[0mmode\u001b[0m\u001b[0;34m=\u001b[0m\u001b[0;34m'w'\u001b[0m\u001b[0;34m)\u001b[0m \u001b[0;32mas\u001b[0m \u001b[0mf\u001b[0m\u001b[0;34m:\u001b[0m\u001b[0;34m\u001b[0m\u001b[0;34m\u001b[0m\u001b[0m\n",
            "\u001b[0;31mNameError\u001b[0m: name 'pd' is not defined"
          ]
        }
      ]
    },
    {
      "cell_type": "code",
      "metadata": {
        "colab": {
          "base_uri": "https://localhost:8080/"
        },
        "id": "GVUGuuu0NJLA",
        "outputId": "e62a8a4f-25c5-4422-e359-8468969f3626"
      },
      "source": [
        "scores_dropout_hidden = model.evaluate(data_train, labels_train)\n",
        "model.save(\"/content/drive/MyDrive/ECE595DL/Project4/mnist_classified_CNN3.h5\")"
      ],
      "execution_count": 29,
      "outputs": [
        {
          "output_type": "stream",
          "name": "stdout",
          "text": [
            "60000/60000 [==============================] - 105s 2ms/step\n"
          ]
        },
        {
          "output_type": "stream",
          "name": "stderr",
          "text": [
            "/tensorflow-1.15.2/python3.7/keras/engine/saving.py:165: UserWarning: TensorFlow optimizers do not make it possible to access optimizer attributes or optimizer state after instantiation. As a result, we cannot save the optimizer as part of the model save file.You will have to compile your model again after loading it. Prefer using a Keras optimizer instead (see keras.io/optimizers).\n",
            "  'TensorFlow optimizers do not '\n"
          ]
        }
      ]
    },
    {
      "cell_type": "code",
      "metadata": {
        "id": "dRvltpU9rMZp",
        "colab": {
          "base_uri": "https://localhost:8080/"
        },
        "outputId": "b4693b87-9cf7-4bc5-eb28-88d874004a53"
      },
      "source": [
        "\n",
        "\n",
        "#Compile model using an appropriate loss and optimizer algorithm\n",
        "model.compile(loss=tf.keras.losses.categorical_crossentropy, optimizer=tf.train.AdamOptimizer(learning_rate=0.001), metrics=['accuracy'])\n",
        "\n",
        "checkpoint_path = \"/content/drive/MyDrive/ECE595DL/Project4/cp.ckpt\"\n",
        "checkpoint_dir = os.path.dirname(checkpoint_path)\n",
        "\n",
        "# Create a callback that saves the model's weights\n",
        "cp_callback = keras.callbacks.ModelCheckpoint(filepath=checkpoint_path,save_weights_only=True,verbose=1)\n",
        "\n",
        "#Train the model and assign training meta-data to a variable\n",
        "model_mdata =  model.fit(data_train, labels_train, epochs=30,validation_data=(data_test, labels_test),batch_size=64, shuffle=True,callbacks=[cp_callback])#steps_per_epoch=1,)\n",
        "hist_df = pd.DataFrame(model_mdata.history) \n",
        "CNN_dropout_hidden_file = 'CNN_mdata.csv'\n",
        "with open(CNN_dropout_hidden_file, mode='w') as f:\n",
        "    hist_df.to_csv(f)\n",
        "\n",
        "#Print accuracy of model on testing set after training \n",
        "scores_dropout_hidden = model.evaluate(data_train, labels_train)\n",
        "model.save(\"mnist_classified_CNN2.h5\")"
      ],
      "execution_count": null,
      "outputs": [
        {
          "output_type": "stream",
          "name": "stdout",
          "text": [
            "Train on 60000 samples, validate on 10000 samples\n",
            "Epoch 1/30\n",
            "60000/60000 [==============================] - 374s 6ms/step - loss: 0.1468 - accuracy: 0.9551 - val_loss: 0.0489 - val_accuracy: 0.9843\n",
            "\n",
            "Epoch 00001: saving model to /content/drive/MyDrive/ECE595DL/Project4/cp.ckpt\n",
            "Epoch 2/30\n",
            "60000/60000 [==============================] - 372s 6ms/step - loss: 0.0419 - accuracy: 0.9875 - val_loss: 0.0370 - val_accuracy: 0.9870\n",
            "\n",
            "Epoch 00002: saving model to /content/drive/MyDrive/ECE595DL/Project4/cp.ckpt\n",
            "Epoch 3/30\n",
            "60000/60000 [==============================] - 372s 6ms/step - loss: 0.0301 - accuracy: 0.9907 - val_loss: 0.0377 - val_accuracy: 0.9876\n",
            "\n",
            "Epoch 00003: saving model to /content/drive/MyDrive/ECE595DL/Project4/cp.ckpt\n",
            "Epoch 4/30\n",
            "60000/60000 [==============================] - 370s 6ms/step - loss: 0.0223 - accuracy: 0.9929 - val_loss: 0.0280 - val_accuracy: 0.9905\n",
            "\n",
            "Epoch 00004: saving model to /content/drive/MyDrive/ECE595DL/Project4/cp.ckpt\n",
            "Epoch 5/30\n",
            "60000/60000 [==============================] - 369s 6ms/step - loss: 0.0169 - accuracy: 0.9945 - val_loss: 0.0351 - val_accuracy: 0.9892\n",
            "\n",
            "Epoch 00005: saving model to /content/drive/MyDrive/ECE595DL/Project4/cp.ckpt\n",
            "Epoch 6/30\n",
            "60000/60000 [==============================] - 369s 6ms/step - loss: 0.0138 - accuracy: 0.9952 - val_loss: 0.0330 - val_accuracy: 0.9910\n",
            "\n",
            "Epoch 00006: saving model to /content/drive/MyDrive/ECE595DL/Project4/cp.ckpt\n",
            "Epoch 7/30\n",
            "60000/60000 [==============================] - 369s 6ms/step - loss: 0.0117 - accuracy: 0.9960 - val_loss: 0.0320 - val_accuracy: 0.9908\n",
            "\n",
            "Epoch 00007: saving model to /content/drive/MyDrive/ECE595DL/Project4/cp.ckpt\n",
            "Epoch 8/30\n",
            "60000/60000 [==============================] - 369s 6ms/step - loss: 0.0111 - accuracy: 0.9964 - val_loss: 0.0428 - val_accuracy: 0.9873\n",
            "\n",
            "Epoch 00008: saving model to /content/drive/MyDrive/ECE595DL/Project4/cp.ckpt\n",
            "Epoch 9/30\n",
            "60000/60000 [==============================] - 368s 6ms/step - loss: 0.0090 - accuracy: 0.9972 - val_loss: 0.0381 - val_accuracy: 0.9898\n",
            "\n",
            "Epoch 00009: saving model to /content/drive/MyDrive/ECE595DL/Project4/cp.ckpt\n",
            "Epoch 10/30\n",
            "60000/60000 [==============================] - 367s 6ms/step - loss: 0.0081 - accuracy: 0.9976 - val_loss: 0.0414 - val_accuracy: 0.9895\n",
            "\n",
            "Epoch 00010: saving model to /content/drive/MyDrive/ECE595DL/Project4/cp.ckpt\n",
            "Epoch 11/30\n",
            "60000/60000 [==============================] - 367s 6ms/step - loss: 0.0064 - accuracy: 0.9979 - val_loss: 0.0308 - val_accuracy: 0.9915\n",
            "\n",
            "Epoch 00011: saving model to /content/drive/MyDrive/ECE595DL/Project4/cp.ckpt\n",
            "Epoch 12/30\n",
            "60000/60000 [==============================] - 367s 6ms/step - loss: 0.0076 - accuracy: 0.9977 - val_loss: 0.0387 - val_accuracy: 0.9908\n",
            "\n",
            "Epoch 00012: saving model to /content/drive/MyDrive/ECE595DL/Project4/cp.ckpt\n",
            "Epoch 13/30\n",
            "60000/60000 [==============================] - 368s 6ms/step - loss: 0.0059 - accuracy: 0.9981 - val_loss: 0.0311 - val_accuracy: 0.9922\n",
            "\n",
            "Epoch 00013: saving model to /content/drive/MyDrive/ECE595DL/Project4/cp.ckpt\n",
            "Epoch 14/30\n",
            "60000/60000 [==============================] - 369s 6ms/step - loss: 0.0066 - accuracy: 0.9980 - val_loss: 0.0310 - val_accuracy: 0.9926\n",
            "\n",
            "Epoch 00014: saving model to /content/drive/MyDrive/ECE595DL/Project4/cp.ckpt\n",
            "Epoch 15/30\n",
            "60000/60000 [==============================] - 367s 6ms/step - loss: 0.0030 - accuracy: 0.9990 - val_loss: 0.0423 - val_accuracy: 0.9907\n",
            "\n",
            "Epoch 00015: saving model to /content/drive/MyDrive/ECE595DL/Project4/cp.ckpt\n",
            "Epoch 16/30\n",
            "60000/60000 [==============================] - 367s 6ms/step - loss: 0.0062 - accuracy: 0.9979 - val_loss: 0.0577 - val_accuracy: 0.9890\n",
            "\n",
            "Epoch 00016: saving model to /content/drive/MyDrive/ECE595DL/Project4/cp.ckpt\n",
            "Epoch 17/30\n",
            "60000/60000 [==============================] - 368s 6ms/step - loss: 0.0050 - accuracy: 0.9985 - val_loss: 0.0381 - val_accuracy: 0.9916\n",
            "\n",
            "Epoch 00017: saving model to /content/drive/MyDrive/ECE595DL/Project4/cp.ckpt\n",
            "Epoch 18/30\n",
            "60000/60000 [==============================] - 367s 6ms/step - loss: 0.0030 - accuracy: 0.9991 - val_loss: 0.0363 - val_accuracy: 0.9916\n",
            "\n",
            "Epoch 00018: saving model to /content/drive/MyDrive/ECE595DL/Project4/cp.ckpt\n",
            "Epoch 19/30\n",
            "60000/60000 [==============================] - 368s 6ms/step - loss: 0.0043 - accuracy: 0.9987 - val_loss: 0.0471 - val_accuracy: 0.9907\n",
            "\n",
            "Epoch 00019: saving model to /content/drive/MyDrive/ECE595DL/Project4/cp.ckpt\n",
            "Epoch 20/30\n",
            "60000/60000 [==============================] - 368s 6ms/step - loss: 0.0037 - accuracy: 0.9989 - val_loss: 0.0395 - val_accuracy: 0.9916\n",
            "\n",
            "Epoch 00020: saving model to /content/drive/MyDrive/ECE595DL/Project4/cp.ckpt\n",
            "Epoch 21/30\n",
            "60000/60000 [==============================] - 368s 6ms/step - loss: 0.0046 - accuracy: 0.9989 - val_loss: 0.0444 - val_accuracy: 0.9921\n",
            "\n",
            "Epoch 00021: saving model to /content/drive/MyDrive/ECE595DL/Project4/cp.ckpt\n",
            "Epoch 22/30\n",
            "60000/60000 [==============================] - 367s 6ms/step - loss: 0.0044 - accuracy: 0.9986 - val_loss: 0.0477 - val_accuracy: 0.9912\n",
            "\n",
            "Epoch 00022: saving model to /content/drive/MyDrive/ECE595DL/Project4/cp.ckpt\n",
            "Epoch 23/30\n",
            "60000/60000 [==============================] - 367s 6ms/step - loss: 0.0036 - accuracy: 0.9989 - val_loss: 0.0365 - val_accuracy: 0.9917\n",
            "\n",
            "Epoch 00023: saving model to /content/drive/MyDrive/ECE595DL/Project4/cp.ckpt\n",
            "Epoch 24/30\n",
            "60000/60000 [==============================] - 370s 6ms/step - loss: 0.0038 - accuracy: 0.9991 - val_loss: 0.0349 - val_accuracy: 0.9933\n",
            "\n",
            "Epoch 00024: saving model to /content/drive/MyDrive/ECE595DL/Project4/cp.ckpt\n",
            "Epoch 25/30\n",
            "60000/60000 [==============================] - 374s 6ms/step - loss: 0.0016 - accuracy: 0.9995 - val_loss: 0.0510 - val_accuracy: 0.9921\n",
            "\n",
            "Epoch 00025: saving model to /content/drive/MyDrive/ECE595DL/Project4/cp.ckpt\n",
            "Epoch 26/30\n",
            "60000/60000 [==============================] - 371s 6ms/step - loss: 6.0142e-04 - accuracy: 0.9998 - val_loss: 0.0740 - val_accuracy: 0.9896\n",
            "\n",
            "Epoch 00026: saving model to /content/drive/MyDrive/ECE595DL/Project4/cp.ckpt\n",
            "Epoch 27/30\n",
            "60000/60000 [==============================] - 373s 6ms/step - loss: 0.0068 - accuracy: 0.9981 - val_loss: 0.0513 - val_accuracy: 0.9905\n",
            "\n",
            "Epoch 00027: saving model to /content/drive/MyDrive/ECE595DL/Project4/cp.ckpt\n",
            "Epoch 28/30\n",
            "60000/60000 [==============================] - 370s 6ms/step - loss: 0.0036 - accuracy: 0.9990 - val_loss: 0.0407 - val_accuracy: 0.9933\n",
            "\n",
            "Epoch 00028: saving model to /content/drive/MyDrive/ECE595DL/Project4/cp.ckpt\n",
            "Epoch 29/30\n",
            "60000/60000 [==============================] - 371s 6ms/step - loss: 0.0018 - accuracy: 0.9995 - val_loss: 0.0546 - val_accuracy: 0.9902\n",
            "\n",
            "Epoch 00029: saving model to /content/drive/MyDrive/ECE595DL/Project4/cp.ckpt\n",
            "Epoch 30/30\n",
            "60000/60000 [==============================] - 373s 6ms/step - loss: 0.0037 - accuracy: 0.9988 - val_loss: 0.0478 - val_accuracy: 0.9916\n",
            "\n",
            "Epoch 00030: saving model to /content/drive/MyDrive/ECE595DL/Project4/cp.ckpt\n",
            "60000/60000 [==============================] - 103s 2ms/step\n"
          ]
        },
        {
          "output_type": "stream",
          "name": "stderr",
          "text": [
            "/tensorflow-1.15.2/python3.7/keras/engine/saving.py:165: UserWarning: TensorFlow optimizers do not make it possible to access optimizer attributes or optimizer state after instantiation. As a result, we cannot save the optimizer as part of the model save file.You will have to compile your model again after loading it. Prefer using a Keras optimizer instead (see keras.io/optimizers).\n",
            "  'TensorFlow optimizers do not '\n"
          ]
        }
      ]
    },
    {
      "cell_type": "code",
      "metadata": {
        "colab": {
          "base_uri": "https://localhost:8080/"
        },
        "id": "QN644oY79bfU",
        "outputId": "b24090ee-832b-4d14-93a2-627c101f5b40"
      },
      "source": [
        "model.save(\"/content/drive/MyDrive/ECE595DL/Project4/mnist_classified_CNN2.json\")\n",
        "model.save(\"/content/drive/MyDrive/ECE595DL/Project4/mnist_classified_CNN2.h5\")\n"
      ],
      "execution_count": null,
      "outputs": [
        {
          "output_type": "stream",
          "name": "stderr",
          "text": [
            "/tensorflow-1.15.2/python3.7/keras/engine/saving.py:165: UserWarning: TensorFlow optimizers do not make it possible to access optimizer attributes or optimizer state after instantiation. As a result, we cannot save the optimizer as part of the model save file.You will have to compile your model again after loading it. Prefer using a Keras optimizer instead (see keras.io/optimizers).\n",
            "  'TensorFlow optimizers do not '\n"
          ]
        }
      ]
    },
    {
      "cell_type": "code",
      "metadata": {
        "colab": {
          "base_uri": "https://localhost:8080/"
        },
        "id": "FES8zW-h1ELE",
        "outputId": "d8e73412-0c3c-4b39-b6b6-a6ae50dcf88d"
      },
      "source": [
        "model.summary()"
      ],
      "execution_count": null,
      "outputs": [
        {
          "output_type": "stream",
          "name": "stdout",
          "text": [
            "Model: \"sequential_26\"\n",
            "_________________________________________________________________\n",
            "Layer (type)                 Output Shape              Param #   \n",
            "=================================================================\n",
            "conv2d_31 (Conv2D)           (None, 26, 26, 256)       2560      \n",
            "_________________________________________________________________\n",
            "dropout_30 (Dropout)         (None, 26, 26, 256)       0         \n",
            "_________________________________________________________________\n",
            "max_pooling2d_30 (MaxPooling (None, 13, 13, 256)       0         \n",
            "_________________________________________________________________\n",
            "conv2d_32 (Conv2D)           (None, 11, 11, 128)       295040    \n",
            "_________________________________________________________________\n",
            "dropout_31 (Dropout)         (None, 11, 11, 128)       0         \n",
            "_________________________________________________________________\n",
            "max_pooling2d_31 (MaxPooling (None, 5, 5, 128)         0         \n",
            "_________________________________________________________________\n",
            "flatten_16 (Flatten)         (None, 3200)              0         \n",
            "_________________________________________________________________\n",
            "dense_31 (Dense)             (None, 100)               320100    \n",
            "_________________________________________________________________\n",
            "dense_32 (Dense)             (None, 100)               10100     \n",
            "_________________________________________________________________\n",
            "dense_33 (Dense)             (None, 10)                1010      \n",
            "=================================================================\n",
            "Total params: 628,810\n",
            "Trainable params: 628,810\n",
            "Non-trainable params: 0\n",
            "_________________________________________________________________\n"
          ]
        }
      ]
    },
    {
      "cell_type": "code",
      "metadata": {
        "colab": {
          "base_uri": "https://localhost:8080/",
          "height": 897
        },
        "id": "OErJkQGW2oGN",
        "outputId": "94448914-bc57-4bd9-b67a-65013661e031"
      },
      "source": [
        "def plotting(history,title):\n",
        "  plt.figure(figsize=(20,5))\n",
        "  plt.subplot(121)\n",
        "  plt.plot(history.accuracy)\n",
        "  plt.plot(history.val_accuracy)\n",
        "  plt.title('CNN Accuracy vs Epoch'); plt.ylabel('Accuracy'); plt.xlabel('Epoch')\n",
        "  plt.legend(['train','test']); \n",
        "  plt.subplot(122);\n",
        "  plt.plot(history.loss)\n",
        "  plt.plot(history.val_loss)\n",
        "  plt.title('CNN Loss vs Epoch'); plt.ylabel('Loss'); plt.xlabel('Epoch')\n",
        "  plt.legend(['train','test']); plt.suptitle(title); plt.show();\n",
        "#Plot loss vs epoch\n",
        "CNN_file = 'CNN_mdata.csv'\n",
        "history=pd.read_csv(CNN_file); \n",
        "plotting(history,'CNN')\n",
        "print(history)"
      ],
      "execution_count": null,
      "outputs": [
        {
          "output_type": "display_data",
          "data": {
            "image/png": "[encoded data removed]",
            "text/plain": [
              "<Figure size 1440x360 with 2 Axes>"
            ]
          },
          "metadata": {
            "needs_background": "light"
          }
        },
        {
          "output_type": "stream",
          "name": "stdout",
          "text": [
            "    Unnamed: 0  val_loss  val_accuracy      loss  accuracy\n",
            "0            0  0.048873        0.9843  0.146790  0.955067\n",
            "1            1  0.037004        0.9870  0.041949  0.987483\n",
            "2            2  0.037723        0.9876  0.030144  0.990683\n",
            "3            3  0.027995        0.9905  0.022312  0.992900\n",
            "4            4  0.035126        0.9892  0.016928  0.994467\n",
            "5            5  0.033014        0.9910  0.013818  0.995167\n",
            "6            6  0.031990        0.9908  0.011691  0.996000\n",
            "7            7  0.042835        0.9873  0.011095  0.996400\n",
            "8            8  0.038058        0.9898  0.009035  0.997150\n",
            "9            9  0.041412        0.9895  0.008071  0.997583\n",
            "10          10  0.030767        0.9915  0.006352  0.997883\n",
            "11          11  0.038666        0.9908  0.007626  0.997683\n",
            "12          12  0.031135        0.9922  0.005933  0.998150\n",
            "13          13  0.031024        0.9926  0.006639  0.998017\n",
            "14          14  0.042329        0.9907  0.003002  0.999017\n",
            "15          15  0.057682        0.9890  0.006247  0.997933\n",
            "16          16  0.038061        0.9916  0.005035  0.998533\n",
            "17          17  0.036301        0.9916  0.003014  0.999150\n",
            "18          18  0.047137        0.9907  0.004343  0.998750\n",
            "19          19  0.039517        0.9916  0.003706  0.998867\n",
            "20          20  0.044414        0.9921  0.004578  0.998883\n",
            "21          21  0.047712        0.9912  0.004428  0.998567\n",
            "22          22  0.036529        0.9917  0.003644  0.998867\n",
            "23          23  0.034935        0.9933  0.003760  0.999100\n",
            "24          24  0.051049        0.9921  0.001639  0.999483\n",
            "25          25  0.073997        0.9896  0.000601  0.999800\n",
            "26          26  0.051300        0.9905  0.006839  0.998150\n",
            "27          27  0.040720        0.9933  0.003589  0.999000\n",
            "28          28  0.054600        0.9902  0.001818  0.999483\n",
            "29          29  0.047796        0.9916  0.003731  0.998850\n"
          ]
        }
      ]
    },
    {
      "cell_type": "code",
      "metadata": {
        "id": "uOsXwFOvrs14",
        "outputId": "0d8407d4-65dc-4596-cde4-3ed354d0df26"
      },
      "source": [
        "def plotting(history,title):\n",
        "  plt.figure(figsize=(20,5))\n",
        "  plt.subplot(121)\n",
        "  plt.plot(history.accuracy)\n",
        "  plt.plot(history.val_accuracy)\n",
        "  plt.title('CNN Accuracy vs Epoch'); plt.ylabel('Accuracy'); plt.xlabel('Epoch')\n",
        "  plt.legend(['train','test']); \n",
        "  plt.subplot(122);\n",
        "  plt.plot(history.loss)\n",
        "  plt.plot(history.val_loss)\n",
        "  plt.title('CNN Loss vs Epoch'); plt.ylabel('Loss'); plt.xlabel('Epoch')\n",
        "  plt.legend(['train','test']); plt.suptitle(title); plt.show();\n",
        "#Plot loss vs epoch\n",
        "CNN_file = 'CNN_mdata.csv'\n",
        "history=pd.read_csv(CNN_file); \n",
        "plotting(history,'CNN')\n",
        "print(history)"
      ],
      "execution_count": null,
      "outputs": [
        {
          "data": {
            "image/png": "[encoded data removed]",
            "text/plain": [
              "<Figure size 1440x360 with 2 Axes>"
            ]
          },
          "metadata": {
            "needs_background": "light"
          },
          "output_type": "display_data"
        },
        {
          "name": "stdout",
          "output_type": "stream",
          "text": [
            "    Unnamed: 0      loss  accuracy  val_loss  val_accuracy\n",
            "0            0  0.197056  0.939833  0.123725        0.9722\n",
            "1            1  0.105596  0.970600  0.095858        0.9797\n",
            "2            2  0.094559  0.973800  0.080390        0.9796\n",
            "3            3  0.091231  0.975417  0.066722        0.9831\n",
            "4            4  0.093768  0.975767  0.056649        0.9848\n",
            "..         ...       ...       ...       ...           ...\n",
            "95          95  0.088580  0.981350  0.075282        0.9857\n",
            "96          96  0.107364  0.979150  0.082272        0.9831\n",
            "97          97  0.101496  0.978233  0.178436        0.9772\n",
            "98          98  0.134864  0.975817  0.081924        0.9846\n",
            "99          99  0.074765  0.982083  0.107964        0.9824\n",
            "\n",
            "[100 rows x 5 columns]\n"
          ]
        }
      ]
    },
    {
      "cell_type": "code",
      "metadata": {
        "id": "gr53zDpTr5wO",
        "outputId": "1f6db878-4370-4eea-a6ff-c113428228bb"
      },
      "source": [
        "#Print accuracy of classifier on MNIST testing data\n",
        "print(\"Accuracy: %.2f%%\" %(scores_dropout_hidden[1]*100))"
      ],
      "execution_count": null,
      "outputs": [
        {
          "name": "stdout",
          "output_type": "stream",
          "text": [
            "Accuracy: 98.74%\n"
          ]
        }
      ]
    },
    {
      "cell_type": "code",
      "metadata": {
        "colab": {
          "base_uri": "https://localhost:8080/"
        },
        "id": "UkUv4l92sB3V",
        "outputId": "e2bf69d2-d884-44e5-db62-0b5efeff2157"
      },
      "source": [
        "from google.colab import drive\n",
        "\n",
        "drive.mount('/content/drive')"
      ],
      "execution_count": 5,
      "outputs": [
        {
          "output_type": "stream",
          "name": "stdout",
          "text": [
            "Drive already mounted at /content/drive; to attempt to forcibly remount, call drive.mount(\"/content/drive\", force_remount=True).\n"
          ]
        }
      ]
    },
    {
      "cell_type": "code",
      "metadata": {
        "colab": {
          "base_uri": "https://localhost:8080/"
        },
        "id": "YEcrqpjas3Xh",
        "outputId": "34ba134c-4044-4359-de26-975c3e9a83b1"
      },
      "source": [
        "\n",
        "# Edit the classifier name fed into KerasModel Wrapper with the name of the \n",
        "#!pip uninstall h5py\n",
        "#!pip install h5py\n",
        "checkpoint_path = \"/content/drive/MyDrive/ECE595DL/Project4/cp2.ckpt\"\n",
        "checkpoint_dir = os.path.dirname(checkpoint_path)\n",
        "\n",
        "model=CNN();#model.summary()\n",
        "\n",
        "latest = tf.train.latest_checkpoint(checkpoint_dir)\n",
        "print(latest)\n",
        "# Create a new model instance\n",
        "\n",
        "# Load the previously saved weights\n",
        "#model.load_weights(\"/content/drive/MyDrive/ECE595DL/Project4/mnist_classified_CNN\") #tf.saved_model.load(checkpoint_path)\n",
        "#model = tf.keras.models.load_model('/content/drive/MyDrive/ECE595DL/Project4/cp.ckpt')\n",
        "#model = tf.keras.models.load_model('/content/mnist_classified_CNN.json')\n",
        "#model = tf.keras.models.load_model('/content/mnist_classified_CNN2.h5',compile=True)\n",
        "#model.load_model('/content/drive/MyDrive/ECE595DL/Project4/cp.ckpt')\n",
        "\n",
        "#model = keras.models.load_model('/content/mnist_classified_CNN.json')\n",
        "#model = tf.keras.models.load_model('/content/mnist_classified_CNN.json')\n",
        "\n",
        "# Check its architecture\n",
        "#model.summary()\n",
        "# load('mnist_classified_CNN.h5')\n",
        "#Get TensorFlow Session to pass into Cleverhans modules\n",
        "#sess = tf.compat.v1.keras.backend.get_session()\n",
        "\n",
        "#Create wrapper for classifier model so that it can be passed into Cleverhans modules\n",
        "#wrap = KerasModelWrapper(model)"
      ],
      "execution_count": 33,
      "outputs": [
        {
          "output_type": "stream",
          "name": "stdout",
          "text": [
            "None\n"
          ]
        }
      ]
    },
    {
      "cell_type": "markdown",
      "metadata": {
        "id": "8_Ehc7tas5YS"
      },
      "source": [
        "#Part 2: The Fast Gradient Method (FGM)"
      ]
    },
    {
      "cell_type": "code",
      "metadata": {
        "id": "fhgpZlnmw66v",
        "colab": {
          "base_uri": "https://localhost:8080/"
        },
        "outputId": "07e3d9e7-31e8-4e13-fe50-2ac7fe3181b1"
      },
      "source": [
        "#Implementing the FGSM attack\n",
        "backend.set_learning_phase(0)\n",
        "#from cleverhans.attacks import FastGradientMethod\n",
        "#FGM Instance on trained classifier from Part 1\n",
        "#FILL THIS IN\n",
        "fgm = FastGradientMethod(wrap, sess=sess)\n",
        "\n",
        "#Attack parameters\n",
        "#FILL THIS IN\n",
        "fgm_params = { 'eps': 0.25, 'clip_min': 0.0, 'clip_max': 1.0}\n",
        "\n",
        "#Generate adversarial data\n",
        "#FILL THIS IN\n",
        "fgm_data = fgm.generate_np(data_test, **fgm_params)\n",
        "\n",
        "#Evaluate accuracy on target classifier \n",
        "#FILL THIS IN\n",
        "# backend.set_learning_phase(0)\n",
        "[test_loss_fgm, test_acc_fgm] = model.evaluate(fgm_data, labels_test, batch_size = 512)\n",
        "print(\"Test Accuracy: {:0.2f}%\".format(test_acc_fgm*100))"
      ],
      "execution_count": null,
      "outputs": [
        {
          "output_type": "stream",
          "name": "stdout",
          "text": [
            "WARNING:tensorflow:From /usr/local/lib/python3.7/dist-packages/cleverhans/utils_tf.py:368: The name tf.GraphKeys is deprecated. Please use tf.compat.v1.GraphKeys instead.\n",
            "\n",
            "WARNING:tensorflow:From /usr/local/lib/python3.7/dist-packages/cleverhans/attacks.py:113: The name tf.placeholder is deprecated. Please use tf.compat.v1.placeholder instead.\n",
            "\n",
            "WARNING:tensorflow:From /usr/local/lib/python3.7/dist-packages/cleverhans/attacks.py:216: calling reduce_max_v1 (from tensorflow.python.ops.math_ops) with keep_dims is deprecated and will be removed in a future version.\n",
            "Instructions for updating:\n",
            "keep_dims is deprecated, use keepdims instead\n",
            "WARNING:tensorflow:From /usr/local/lib/python3.7/dist-packages/cleverhans/attacks.py:218: to_float (from tensorflow.python.ops.math_ops) is deprecated and will be removed in a future version.\n",
            "Instructions for updating:\n",
            "Use `tf.cast` instead.\n",
            "WARNING:tensorflow:From /usr/local/lib/python3.7/dist-packages/cleverhans/attacks_tf.py:62: calling reduce_sum_v1 (from tensorflow.python.ops.math_ops) with keep_dims is deprecated and will be removed in a future version.\n",
            "Instructions for updating:\n",
            "keep_dims is deprecated, use keepdims instead\n",
            "WARNING:tensorflow:From /usr/local/lib/python3.7/dist-packages/cleverhans/utils_tf.py:37: softmax_cross_entropy_with_logits (from tensorflow.python.ops.nn_ops) is deprecated and will be removed in a future version.\n",
            "Instructions for updating:\n",
            "\n",
            "Future major versions of TensorFlow will allow gradients to flow\n",
            "into the labels input on backprop by default.\n",
            "\n",
            "See `tf.nn.softmax_cross_entropy_with_logits_v2`.\n",
            "\n"
          ]
        }
      ]
    },
    {
      "cell_type": "code",
      "metadata": {
        "collapsed": true,
        "id": "GA5T9mkws9vJ"
      },
      "source": [
        "#Implementing the FGSM attack\n",
        "\n",
        "#FGM Instance on trained classifier from Part 1\n",
        "#FILL THIS IN\n",
        "\n",
        "#Attack parameters\n",
        "#FILL THIS IN\n",
        "\n",
        "#Generate adversarial data\n",
        "#FILL THIS IN\n",
        "\n",
        "#Evaluate accuracy on target classifier \n",
        "#FILL THIS IN\n"
      ],
      "execution_count": null,
      "outputs": []
    },
    {
      "cell_type": "code",
      "metadata": {
        "collapsed": true,
        "id": "wE_rdYIrDeNZ"
      },
      "source": [
        "#Show ten original samples and their corresponding adversarial samples\n",
        "#FILL THIS IN"
      ],
      "execution_count": null,
      "outputs": []
    },
    {
      "cell_type": "code",
      "metadata": {
        "collapsed": true,
        "id": "qurgywiaJe-I"
      },
      "source": [
        "#Implementing Detection via Autoencoders\n",
        "\n",
        "def autoencoder():\n",
        "    ae = Sequential()\n",
        "    ae.add(Dense(400, activation=None, kernel_initializer=\"normal\", input_dim=784))\n",
        "    ae.add(Dense(200, activation=None, kernel_initializer='normal'))\n",
        "    ae.add(Dense(100, activation=None, kernel_initializer='normal'))\n",
        "    ae.add(Dense(200, activation=None, kernel_initializer='normal'))\n",
        "    ae.add(Dense(400, activation=None, kernel_initializer='normal'))\n",
        "    ae.add(Dense(784, activation='sigmoid', kernel_initializer='normal'))\n",
        "    return ae\n",
        "\n",
        "#Create and train the autoencoder using the mean squared error loss and adam optimizer\n",
        "#FILL THIS IN"
      ],
      "execution_count": null,
      "outputs": []
    },
    {
      "cell_type": "code",
      "metadata": {
        "collapsed": true,
        "id": "sGVPbCP_JvDo"
      },
      "source": [
        "#Using the autoencoder for detection and to determine a threshold \n",
        "\n",
        "# Create adversarial examples using FGSM on training data\n",
        "#FILL THIS IN\n",
        "\n",
        "# Obtain reconstruction errors on training set and determine a threshold \n",
        "#FILL THIS IN\n",
        "\n",
        "# Convert error tensor into NumPy array \n",
        "# CHANGE NAME 'error' TO WHAT YOU CALLED IT ABOVE\n",
        "error = error.eval(session=sess)\n",
        "\n",
        "# Determine threshold (based on min in this case) and print it \n",
        "#FILL THIS IN\n",
        "\n",
        "# Calculate error of adversarial testing set\n",
        "#FILL THIS IN\n",
        "\n",
        "# Determine how many examples are above threshold and consider them adversarial\n",
        "# (true positive count)\n",
        "# Hint: Use a 'for' loop to compare each error value to the threshold\n",
        "#FILL THIS IN\n",
        "\n",
        "# Print number of true positive samples\n",
        "#FILL THIS IN  \n",
        "\n",
        "# Determine false positives on benign testing set\n",
        "#FILL THIS IN \n",
        "\n",
        "\n",
        "# Determine how many examples are above threshold and consider them adversarial\n",
        "# (false positive count)\n",
        "# Hint: Use a 'for' loop to compare each error value to the threshold\n",
        "#FILL THIS IN \n",
        "    \n",
        "# Print number of false positive samples\n",
        "#FILL THIS IN   "
      ],
      "execution_count": null,
      "outputs": []
    },
    {
      "cell_type": "markdown",
      "metadata": {
        "id": "VE2WG6LnP14d"
      },
      "source": [
        "#Part 3: Projected Gradient Descent"
      ]
    },
    {
      "cell_type": "code",
      "metadata": {
        "collapsed": true,
        "id": "iEkYKPN-P4Sj"
      },
      "source": [
        "#Implementing the PGD attack\n",
        "\n",
        "#PGD Instance on trained classifier from Part 1\n",
        "pgd = MadryEtAl(wrap, sess=sess)\n",
        "\n",
        "#Attack parameters\n",
        "#FILL THIS IN\n",
        "\n",
        "#Generate adversarial data\n",
        "#FILL THIS IN\n",
        "\n",
        "#Evaluate accuracy of perturbed data on target classifier\n",
        "#FILL THIS IN"
      ],
      "execution_count": null,
      "outputs": []
    },
    {
      "cell_type": "code",
      "metadata": {
        "collapsed": true,
        "id": "urEHSPQISer1"
      },
      "source": [
        "#Show ten original samples and their corresponding adversarial samples\n",
        "#FILL THIS IN "
      ],
      "execution_count": null,
      "outputs": []
    },
    {
      "cell_type": "code",
      "metadata": {
        "collapsed": true,
        "id": "gTygGikdUWU8"
      },
      "source": [
        "#Implementing the adversarial training defense\n",
        "#FILL THIS IN"
      ],
      "execution_count": null,
      "outputs": []
    },
    {
      "cell_type": "code",
      "metadata": {
        "collapsed": true,
        "id": "i6dMEXGBUlci"
      },
      "source": [
        "#Using the defense to evaluate the accuracy of the perturbed data\n",
        "#FILL THIS IN "
      ],
      "execution_count": null,
      "outputs": []
    },
    {
      "cell_type": "markdown",
      "metadata": {
        "id": "MqIEiMdar_5q"
      },
      "source": [
        "#Part 4: Carlini and Wagner Attack"
      ]
    },
    {
      "cell_type": "code",
      "metadata": {
        "collapsed": true,
        "id": "oyyNb-v5sCY6"
      },
      "source": [
        "#Implementing the CW attack\n",
        "\n",
        "#CW Instance on trained classifier from Part 1\n",
        "#FILL THIS IN\n",
        "\n",
        "\n",
        "#Attack parameters\n",
        "#FILL THIS IN\n",
        "\n",
        "\n",
        "#Generate adversarial data\n",
        "#FILL THIS IN\n",
        "\n",
        "\n",
        "#Evaluate accuracy of perturbed data on target classifier\n",
        "#FILL THIS IN"
      ],
      "execution_count": null,
      "outputs": []
    },
    {
      "cell_type": "code",
      "metadata": {
        "collapsed": true,
        "id": "rlEMqrlPurRL"
      },
      "source": [
        "#Show ten original samples and their corresponding adversarial samples\n",
        "#FILL THIS IN "
      ],
      "execution_count": null,
      "outputs": []
    },
    {
      "cell_type": "code",
      "metadata": {
        "collapsed": true,
        "id": "P-VhQHQ2uvmV"
      },
      "source": [
        "#Implementing the dimensionality reduction (PCA) defense \n",
        "\n",
        "#Calculate PCA projection\n",
        "pca = PCA(100)\n",
        "pca.fit(data_train)\n",
        "pca_train = pca.transform(data_train)\n",
        "pca_test = pca.transform(data_test)\n",
        "\n",
        "#Transform perturbed CW data using the subspace from the original training data\n",
        "#FILL THIS IN \n",
        "\n",
        "# create model for PCA\n",
        "def pca_model():\n",
        "    model = Sequential()\n",
        "    \n",
        "    #FILL THIS IN \n",
        "\n",
        "    return model\n",
        "\n",
        "#Create model graph, compile it, and train it using pca_train lables_train \n",
        "#FILL THIS IN "
      ],
      "execution_count": null,
      "outputs": []
    },
    {
      "cell_type": "code",
      "metadata": {
        "collapsed": true,
        "id": "o9L61AfG2y94"
      },
      "source": [
        "#Using the defense (and comparing to baseline accuracy)\n",
        "#FILL THIS IN "
      ],
      "execution_count": null,
      "outputs": []
    },
    {
      "cell_type": "markdown",
      "metadata": {
        "id": "KP0mENqGhDt0"
      },
      "source": [
        "#Part 5: DeepFool "
      ]
    },
    {
      "cell_type": "code",
      "metadata": {
        "collapsed": true,
        "id": "zHraovc2hES3"
      },
      "source": [
        "#Implementing the DeepFool attack\n",
        "\n",
        "#DeepFool Instance on trained classifier from Part 1\n",
        "#FILL THIS IN\n",
        "\n",
        "\n",
        "#Attack parameters\n",
        "#FILL THIS IN\n",
        "\n",
        "\n",
        "#Generate adversarial data\n",
        "#FILL THIS IN\n",
        "\n",
        "\n",
        "#Evaluate accuracy of perturbed data on target classifier\n",
        "#FILL THIS IN"
      ],
      "execution_count": null,
      "outputs": []
    },
    {
      "cell_type": "code",
      "metadata": {
        "collapsed": true,
        "id": "zEsLfmxThZ6M"
      },
      "source": [
        "#Show ten original samples and their corresponding adversarial samples\n",
        "#FILL THIS IN"
      ],
      "execution_count": null,
      "outputs": []
    },
    {
      "cell_type": "code",
      "metadata": {
        "collapsed": true,
        "id": "tOapt7QaM4U_"
      },
      "source": [
        "#Implementing the Denoising Autoencoder Defense\n",
        "\n",
        "def autoencoder():\n",
        "    ae = Sequential()\n",
        "    ae.add(Dense(400, activation=None, kernel_initializer=\"normal\", input_dim=784))\n",
        "    ae.add(Dense(200, activation=None, kernel_initializer='normal'))\n",
        "    ae.add(Dense(100, activation=None, kernel_initializer='normal'))\n",
        "    ae.add(Dense(200, activation=None, kernel_initializer='normal'))\n",
        "    ae.add(Dense(400, activation=None, kernel_initializer='normal'))\n",
        "    ae.add(Dense(784, activation='sigmoid', kernel_initializer='normal'))\n",
        "    return ae\n",
        "\n",
        "#Create training data for DAE \n",
        "df_attack_data_train = deepfool.generate_np(data_train, **fgm_params)\n",
        "data_total_train = np.concatenate([df_attack_data_train, data_train])\n",
        "\n",
        "#Create and train DAE graph\n",
        "#FILL THIS IN"
      ],
      "execution_count": null,
      "outputs": []
    },
    {
      "cell_type": "code",
      "metadata": {
        "collapsed": true,
        "id": "5CjKifVRNMMV"
      },
      "source": [
        "#Using the defense\n",
        "\n",
        "#Use DAE to to remove adversarial perturbation \n",
        "#FILL THIS IN\n",
        "\n",
        "#Evaluate accuracy of FGM samples after denoising \n",
        "#FILL THIS IN"
      ],
      "execution_count": null,
      "outputs": []
    },
    {
      "cell_type": "code",
      "metadata": {
        "collapsed": true,
        "id": "6NSAW0v3NSMB"
      },
      "source": [
        "#Show ten samples of adversarial samples after denoising\n",
        "#FILL THIS IN"
      ],
      "execution_count": null,
      "outputs": []
    }
  ]
}