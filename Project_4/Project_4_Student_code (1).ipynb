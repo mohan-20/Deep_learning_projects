{
 "cells": [
  {
   "cell_type": "markdown",
   "metadata": {
    "colab_type": "text",
    "id": "NiZYmbLsCx8C"
   },
   "source": [
    "#Student Name: \n",
    "#ECE 595 Machine Learning II\n",
    "#Project 4: Adversarial Machine Learning - Student Code"
   ]
  },
  {
   "cell_type": "code",
   "execution_count": 1,
   "metadata": {
    "colab": {},
    "colab_type": "code",
    "id": "ZH3b6I2oq_6i"
   },
   "outputs": [
    {
     "name": "stdout",
     "output_type": "stream",
     "text": [
      "Collecting cleverhans==2.1.0\n",
      "  Downloading https://files.pythonhosted.org/packages/cc/91/1f6f2d1f1bf2268dcebd097347b4d8fa952743ed46b6fb160a314ca67287/cleverhans-2.1.0-py3-none-any.whl (74kB)\n",
      "\u001b[K    100% |████████████████████████████████| 81kB 2.6MB/s ta 0:00:011\n",
      "\u001b[?25hCollecting mnist~=0.2 (from cleverhans==2.1.0)\n",
      "  Downloading https://files.pythonhosted.org/packages/c6/c4/5db3bfe009f8d71f1d532bbadbd0ec203764bba3a469e4703a889db8e5e0/mnist-0.2.2-py2.py3-none-any.whl\n",
      "Requirement already satisfied: numpy in /opt/anaconda3/lib/python3.6/site-packages (from cleverhans==2.1.0)\n",
      "Requirement already satisfied: scipy in /opt/anaconda3/lib/python3.6/site-packages (from cleverhans==2.1.0)\n",
      "Requirement already satisfied: nose in /opt/anaconda3/lib/python3.6/site-packages (from cleverhans==2.1.0)\n",
      "Requirement already satisfied: matplotlib in /opt/anaconda3/lib/python3.6/site-packages (from cleverhans==2.1.0)\n",
      "Collecting pycodestyle (from cleverhans==2.1.0)\n",
      "  Downloading https://files.pythonhosted.org/packages/15/94/bc43a2efb7b8615e38acde2b6624cae8c9ec86faf718ff5676c5179a7714/pycodestyle-2.8.0-py2.py3-none-any.whl (42kB)\n",
      "\u001b[K    100% |████████████████████████████████| 51kB 3.6MB/s eta 0:00:01\n",
      "\u001b[?25hRequirement already satisfied: cycler>=0.10 in /opt/anaconda3/lib/python3.6/site-packages (from matplotlib->cleverhans==2.1.0)\n",
      "Requirement already satisfied: pyparsing!=2.0.4,!=2.1.2,!=2.1.6,>=2.0.1 in /opt/anaconda3/lib/python3.6/site-packages (from matplotlib->cleverhans==2.1.0)\n",
      "Requirement already satisfied: python-dateutil>=2.1 in /opt/anaconda3/lib/python3.6/site-packages (from matplotlib->cleverhans==2.1.0)\n",
      "Requirement already satisfied: pytz in /opt/anaconda3/lib/python3.6/site-packages (from matplotlib->cleverhans==2.1.0)\n",
      "Requirement already satisfied: six>=1.10 in /opt/anaconda3/lib/python3.6/site-packages (from matplotlib->cleverhans==2.1.0)\n",
      "Requirement already satisfied: kiwisolver>=1.0.1 in /opt/anaconda3/lib/python3.6/site-packages (from matplotlib->cleverhans==2.1.0)\n",
      "Requirement already satisfied: setuptools in /opt/anaconda3/lib/python3.6/site-packages/setuptools-27.2.0-py3.6.egg (from kiwisolver>=1.0.1->matplotlib->cleverhans==2.1.0)\n",
      "Installing collected packages: mnist, pycodestyle, cleverhans\n",
      "\u001b[31mException:\n",
      "Traceback (most recent call last):\n",
      "  File \"/opt/anaconda3/lib/python3.6/site-packages/pip/basecommand.py\", line 215, in main\n",
      "    status = self.run(options, args)\n",
      "  File \"/opt/anaconda3/lib/python3.6/site-packages/pip/commands/install.py\", line 342, in run\n",
      "    prefix=options.prefix_path,\n",
      "  File \"/opt/anaconda3/lib/python3.6/site-packages/pip/req/req_set.py\", line 784, in install\n",
      "    **kwargs\n",
      "  File \"/opt/anaconda3/lib/python3.6/site-packages/pip/req/req_install.py\", line 851, in install\n",
      "    self.move_wheel_files(self.source_dir, root=root, prefix=prefix)\n",
      "  File \"/opt/anaconda3/lib/python3.6/site-packages/pip/req/req_install.py\", line 1064, in move_wheel_files\n",
      "    isolated=self.isolated,\n",
      "  File \"/opt/anaconda3/lib/python3.6/site-packages/pip/wheel.py\", line 345, in move_wheel_files\n",
      "    clobber(source, lib_dir, True)\n",
      "  File \"/opt/anaconda3/lib/python3.6/site-packages/pip/wheel.py\", line 316, in clobber\n",
      "    ensure_dir(destdir)\n",
      "  File \"/opt/anaconda3/lib/python3.6/site-packages/pip/utils/__init__.py\", line 83, in ensure_dir\n",
      "    os.makedirs(path)\n",
      "  File \"/opt/anaconda3/lib/python3.6/os.py\", line 220, in makedirs\n",
      "    mkdir(name, mode)\n",
      "PermissionError: [Errno 13] Permission denied: '/opt/anaconda3/lib/python3.6/site-packages/mnist-0.2.2.dist-info'\u001b[0m\n",
      "\u001b[33mYou are using pip version 9.0.3, however version 21.3.1 is available.\n",
      "You should consider upgrading via the 'pip install --upgrade pip' command.\u001b[0m\n"
     ]
    }
   ],
   "source": [
    "#Install Cleverhans (version Cleverhans 2.1.0 is most compatable with Python 2.x)\n",
    "!pip install cleverhans==2.1.0"
   ]
  },
  {
   "cell_type": "code",
   "execution_count": 7,
   "metadata": {
    "colab": {},
    "colab_type": "code",
    "id": "mVKiKyxvrDio"
   },
   "outputs": [],
   "source": [
    "#Import necessary packages\n",
    "import tensorflow.compat.v1 as tf\n",
    "from keras.datasets import mnist\n",
    "from tensorflow.keras import Sequential\n",
    "from tensorflow.keras.layers import Dense, BatchNormalization, Conv2D, Flatten, MaxPooling2D, Dropout, Reshape, LSTM, InputLayer\n",
    "from keras import backend\n",
    "import keras\n",
    "import numpy as np\n",
    "import matplotlib.pyplot as plt\n",
    "from sklearn.decomposition import PCA\n",
    "from cleverhans.utils_keras import KerasModelWrapper\n",
    "from cleverhans.attacks import FastGradientMethod, MadryEtAl, DeepFool, CarliniWagnerL2\n",
    "import pandas as pd\n"
   ]
  },
  {
   "cell_type": "markdown",
   "metadata": {
    "colab_type": "text",
    "id": "AR7lUPK3rL3d"
   },
   "source": [
    "#Part 1: Training a target classifier"
   ]
  },
  {
   "cell_type": "code",
   "execution_count": null,
   "metadata": {
    "collapsed": true
   },
   "outputs": [],
   "source": []
  },
  {
   "cell_type": "code",
   "execution_count": 3,
   "metadata": {
    "colab": {},
    "colab_type": "code",
    "id": "dRvltpU9rMZp"
   },
   "outputs": [
    {
     "name": "stdout",
     "output_type": "stream",
     "text": [
      "tf.Tensor([60000    28    28], shape=(3,), dtype=int32)\n",
      "tf.Tensor([10000    28    28], shape=(3,), dtype=int32)\n",
      "tf.Tensor([60000    28    28     1], shape=(4,), dtype=int32)\n",
      "tf.Tensor([60000    28    28     1], shape=(4,), dtype=int32)\n",
      "tf.Tensor([60000    10], shape=(2,), dtype=int32)\n",
      "tf.Tensor([10000    10], shape=(2,), dtype=int32)\n",
      "Epoch 1/100\n",
      "938/938 [==============================] - 187s 200ms/step - loss: 0.2515 - accuracy: 0.9226 - val_loss: 0.1143 - val_accuracy: 0.9727\n",
      "Epoch 2/100\n",
      "938/938 [==============================] - 187s 200ms/step - loss: 0.1120 - accuracy: 0.9669 - val_loss: 0.1276 - val_accuracy: 0.9650\n",
      "Epoch 3/100\n",
      "938/938 [==============================] - 186s 198ms/step - loss: 0.1066 - accuracy: 0.9688 - val_loss: 0.0699 - val_accuracy: 0.9814\n",
      "Epoch 4/100\n",
      "938/938 [==============================] - 187s 200ms/step - loss: 0.0979 - accuracy: 0.9724 - val_loss: 0.0837 - val_accuracy: 0.9787\n",
      "Epoch 5/100\n",
      "938/938 [==============================] - 186s 198ms/step - loss: 0.1023 - accuracy: 0.9720 - val_loss: 0.0746 - val_accuracy: 0.9824\n",
      "Epoch 6/100\n",
      "938/938 [==============================] - 187s 200ms/step - loss: 0.0983 - accuracy: 0.9743 - val_loss: 0.0815 - val_accuracy: 0.9801\n",
      "Epoch 7/100\n",
      "938/938 [==============================] - 187s 199ms/step - loss: 0.0948 - accuracy: 0.9756 - val_loss: 0.0926 - val_accuracy: 0.9751\n",
      "Epoch 8/100\n",
      "938/938 [==============================] - 187s 199ms/step - loss: 0.0940 - accuracy: 0.9750 - val_loss: 0.0829 - val_accuracy: 0.9794\n",
      "Epoch 9/100\n",
      "938/938 [==============================] - 188s 200ms/step - loss: 0.0948 - accuracy: 0.9760 - val_loss: 0.0613 - val_accuracy: 0.9848\n",
      "Epoch 10/100\n",
      "938/938 [==============================] - 187s 199ms/step - loss: 0.0893 - accuracy: 0.9777 - val_loss: 0.0591 - val_accuracy: 0.9840\n",
      "Epoch 11/100\n",
      "938/938 [==============================] - 187s 199ms/step - loss: 0.0904 - accuracy: 0.9777 - val_loss: 0.0875 - val_accuracy: 0.9793\n",
      "Epoch 12/100\n",
      "938/938 [==============================] - 186s 198ms/step - loss: 0.0837 - accuracy: 0.9784 - val_loss: 0.1228 - val_accuracy: 0.9708\n",
      "Epoch 13/100\n",
      "938/938 [==============================] - 186s 198ms/step - loss: 0.0897 - accuracy: 0.9780 - val_loss: 0.0551 - val_accuracy: 0.9873\n",
      "Epoch 14/100\n",
      "938/938 [==============================] - 187s 200ms/step - loss: 0.0929 - accuracy: 0.9776 - val_loss: 0.0794 - val_accuracy: 0.9823\n",
      "Epoch 15/100\n",
      "938/938 [==============================] - 187s 199ms/step - loss: 0.0871 - accuracy: 0.9786 - val_loss: 0.0500 - val_accuracy: 0.9877\n",
      "Epoch 16/100\n",
      "938/938 [==============================] - 188s 200ms/step - loss: 0.0825 - accuracy: 0.9796 - val_loss: 0.0486 - val_accuracy: 0.9878\n",
      "Epoch 17/100\n",
      "938/938 [==============================] - 187s 199ms/step - loss: 0.0787 - accuracy: 0.9807 - val_loss: 0.0783 - val_accuracy: 0.9795\n",
      "Epoch 18/100\n",
      "938/938 [==============================] - 186s 198ms/step - loss: 0.0808 - accuracy: 0.9807 - val_loss: 0.0554 - val_accuracy: 0.9861\n",
      "Epoch 19/100\n",
      "938/938 [==============================] - 187s 199ms/step - loss: 0.0813 - accuracy: 0.9807 - val_loss: 0.0576 - val_accuracy: 0.9862\n",
      "Epoch 20/100\n",
      "938/938 [==============================] - 187s 199ms/step - loss: 0.0804 - accuracy: 0.9815 - val_loss: 0.0597 - val_accuracy: 0.9850\n",
      "Epoch 21/100\n",
      "938/938 [==============================] - 192s 205ms/step - loss: 0.0834 - accuracy: 0.9802 - val_loss: 0.0513 - val_accuracy: 0.9877\n",
      "Epoch 22/100\n",
      "938/938 [==============================] - 192s 205ms/step - loss: 0.0860 - accuracy: 0.9805 - val_loss: 0.0555 - val_accuracy: 0.9876\n",
      "Epoch 23/100\n",
      "938/938 [==============================] - 191s 203ms/step - loss: 0.0864 - accuracy: 0.9803 - val_loss: 0.0494 - val_accuracy: 0.9881\n",
      "Epoch 24/100\n",
      "938/938 [==============================] - 193s 206ms/step - loss: 0.0730 - accuracy: 0.9844 - val_loss: 0.0528 - val_accuracy: 0.9870\n",
      "Epoch 25/100\n",
      "938/938 [==============================] - 193s 206ms/step - loss: 0.0782 - accuracy: 0.9820 - val_loss: 0.0579 - val_accuracy: 0.9879\n",
      "Epoch 26/100\n",
      "938/938 [==============================] - 194s 207ms/step - loss: 0.0910 - accuracy: 0.9798 - val_loss: 0.0695 - val_accuracy: 0.9831\n",
      "Epoch 27/100\n",
      "938/938 [==============================] - 193s 206ms/step - loss: 0.0828 - accuracy: 0.9806 - val_loss: 0.0586 - val_accuracy: 0.9867\n",
      "Epoch 28/100\n",
      "938/938 [==============================] - 193s 206ms/step - loss: 0.0881 - accuracy: 0.9814 - val_loss: 0.0658 - val_accuracy: 0.9862\n",
      "Epoch 29/100\n",
      "938/938 [==============================] - 193s 206ms/step - loss: 0.0753 - accuracy: 0.9827 - val_loss: 0.0632 - val_accuracy: 0.9880\n",
      "Epoch 30/100\n",
      "938/938 [==============================] - 193s 206ms/step - loss: 0.0753 - accuracy: 0.9833 - val_loss: 0.0585 - val_accuracy: 0.9865\n",
      "Epoch 31/100\n",
      "938/938 [==============================] - 193s 205ms/step - loss: 0.0775 - accuracy: 0.9829 - val_loss: 0.0689 - val_accuracy: 0.9876\n",
      "Epoch 32/100\n",
      "938/938 [==============================] - 193s 206ms/step - loss: 0.0806 - accuracy: 0.9824 - val_loss: 0.0818 - val_accuracy: 0.9828\n",
      "Epoch 33/100\n",
      "938/938 [==============================] - 193s 205ms/step - loss: 0.0804 - accuracy: 0.9828 - val_loss: 0.0505 - val_accuracy: 0.9889\n",
      "Epoch 34/100\n",
      "938/938 [==============================] - 193s 206ms/step - loss: 0.0946 - accuracy: 0.9805 - val_loss: 0.0628 - val_accuracy: 0.9857\n",
      "Epoch 35/100\n",
      "938/938 [==============================] - 193s 206ms/step - loss: 0.0736 - accuracy: 0.9839 - val_loss: 0.0550 - val_accuracy: 0.9885\n",
      "Epoch 36/100\n",
      "938/938 [==============================] - 194s 207ms/step - loss: 0.0753 - accuracy: 0.9837 - val_loss: 0.0581 - val_accuracy: 0.9881\n",
      "Epoch 37/100\n",
      "938/938 [==============================] - 192s 204ms/step - loss: 0.0829 - accuracy: 0.9822 - val_loss: 0.0588 - val_accuracy: 0.9859\n",
      "Epoch 38/100\n",
      "938/938 [==============================] - 193s 206ms/step - loss: 0.0825 - accuracy: 0.9819 - val_loss: 0.0463 - val_accuracy: 0.9887\n",
      "Epoch 39/100\n",
      "938/938 [==============================] - 192s 205ms/step - loss: 0.0819 - accuracy: 0.9832 - val_loss: 0.0535 - val_accuracy: 0.9882\n",
      "Epoch 40/100\n",
      "938/938 [==============================] - 193s 205ms/step - loss: 0.0774 - accuracy: 0.9836 - val_loss: 0.0671 - val_accuracy: 0.9873\n",
      "Epoch 41/100\n",
      "938/938 [==============================] - 191s 204ms/step - loss: 0.0837 - accuracy: 0.9822 - val_loss: 0.0538 - val_accuracy: 0.9875\n",
      "Epoch 42/100\n",
      "938/938 [==============================] - 193s 206ms/step - loss: 0.0850 - accuracy: 0.9820 - val_loss: 0.0637 - val_accuracy: 0.9856\n",
      "Epoch 43/100\n",
      "938/938 [==============================] - 192s 205ms/step - loss: 0.0838 - accuracy: 0.9833 - val_loss: 0.0561 - val_accuracy: 0.9866\n",
      "Epoch 44/100\n",
      "938/938 [==============================] - 192s 205ms/step - loss: 0.0785 - accuracy: 0.9833 - val_loss: 0.0539 - val_accuracy: 0.9884\n",
      "Epoch 45/100\n",
      "938/938 [==============================] - 192s 205ms/step - loss: 0.0740 - accuracy: 0.9846 - val_loss: 0.0697 - val_accuracy: 0.9857\n",
      "Epoch 46/100\n",
      "938/938 [==============================] - 192s 205ms/step - loss: 0.0790 - accuracy: 0.9833 - val_loss: 0.0573 - val_accuracy: 0.9857\n",
      "Epoch 47/100\n",
      "938/938 [==============================] - 193s 206ms/step - loss: 0.0746 - accuracy: 0.9843 - val_loss: 0.0790 - val_accuracy: 0.9823\n",
      "Epoch 48/100\n",
      "938/938 [==============================] - 192s 205ms/step - loss: 0.0916 - accuracy: 0.9813 - val_loss: 0.0629 - val_accuracy: 0.9865\n",
      "Epoch 49/100\n",
      "938/938 [==============================] - 192s 204ms/step - loss: 0.0733 - accuracy: 0.9845 - val_loss: 0.0462 - val_accuracy: 0.9876\n",
      "Epoch 50/100\n",
      "938/938 [==============================] - 192s 205ms/step - loss: 0.0904 - accuracy: 0.9830 - val_loss: 0.0631 - val_accuracy: 0.9867\n",
      "Epoch 51/100\n",
      "938/938 [==============================] - 192s 205ms/step - loss: 0.0775 - accuracy: 0.9841 - val_loss: 0.0693 - val_accuracy: 0.9861\n",
      "Epoch 52/100\n",
      "938/938 [==============================] - 192s 205ms/step - loss: 0.0785 - accuracy: 0.9843 - val_loss: 0.0494 - val_accuracy: 0.9883\n",
      "Epoch 53/100\n",
      "938/938 [==============================] - 193s 206ms/step - loss: 0.0721 - accuracy: 0.9849 - val_loss: 0.0779 - val_accuracy: 0.9854\n",
      "Epoch 54/100\n",
      "938/938 [==============================] - 193s 206ms/step - loss: 0.0935 - accuracy: 0.9800 - val_loss: 0.0598 - val_accuracy: 0.9867\n",
      "Epoch 55/100\n",
      "938/938 [==============================] - 192s 205ms/step - loss: 0.0748 - accuracy: 0.9844 - val_loss: 0.0592 - val_accuracy: 0.9872\n",
      "Epoch 56/100\n",
      "938/938 [==============================] - 194s 207ms/step - loss: 0.0834 - accuracy: 0.9823 - val_loss: 0.0651 - val_accuracy: 0.9877\n",
      "Epoch 57/100\n",
      "938/938 [==============================] - 193s 206ms/step - loss: 0.0778 - accuracy: 0.9839 - val_loss: 0.0687 - val_accuracy: 0.9866\n",
      "Epoch 58/100\n",
      "938/938 [==============================] - 193s 206ms/step - loss: 0.0698 - accuracy: 0.9855 - val_loss: 0.1012 - val_accuracy: 0.9803\n",
      "Epoch 59/100\n",
      "938/938 [==============================] - 193s 206ms/step - loss: 0.0853 - accuracy: 0.9823 - val_loss: 0.0704 - val_accuracy: 0.9840\n",
      "Epoch 60/100\n",
      "938/938 [==============================] - 192s 204ms/step - loss: 0.0777 - accuracy: 0.9839 - val_loss: 0.0627 - val_accuracy: 0.9862\n",
      "Epoch 61/100\n",
      "938/938 [==============================] - 193s 206ms/step - loss: 0.0812 - accuracy: 0.9829 - val_loss: 0.0560 - val_accuracy: 0.9880\n",
      "Epoch 62/100\n",
      "938/938 [==============================] - 194s 206ms/step - loss: 0.0853 - accuracy: 0.9829 - val_loss: 0.0633 - val_accuracy: 0.9870\n",
      "Epoch 63/100\n",
      "938/938 [==============================] - 193s 206ms/step - loss: 0.0911 - accuracy: 0.9815 - val_loss: 0.0732 - val_accuracy: 0.9849\n",
      "Epoch 64/100\n",
      "938/938 [==============================] - 193s 206ms/step - loss: 0.0839 - accuracy: 0.9831 - val_loss: 0.0872 - val_accuracy: 0.9864\n",
      "Epoch 65/100\n",
      "938/938 [==============================] - 193s 206ms/step - loss: 0.0804 - accuracy: 0.9836 - val_loss: 0.0889 - val_accuracy: 0.9854\n",
      "Epoch 66/100\n",
      "938/938 [==============================] - 193s 206ms/step - loss: 0.1039 - accuracy: 0.9805 - val_loss: 0.0808 - val_accuracy: 0.9839\n",
      "Epoch 67/100\n",
      "938/938 [==============================] - 193s 205ms/step - loss: 0.0798 - accuracy: 0.9839 - val_loss: 0.0704 - val_accuracy: 0.9841\n",
      "Epoch 68/100\n",
      "938/938 [==============================] - 193s 206ms/step - loss: 0.0840 - accuracy: 0.9834 - val_loss: 0.0783 - val_accuracy: 0.9841\n",
      "Epoch 69/100\n",
      "938/938 [==============================] - 193s 206ms/step - loss: 0.0847 - accuracy: 0.9833 - val_loss: 0.0775 - val_accuracy: 0.9855\n",
      "Epoch 70/100\n",
      "938/938 [==============================] - 193s 206ms/step - loss: 0.0799 - accuracy: 0.9841 - val_loss: 0.0550 - val_accuracy: 0.9877\n",
      "Epoch 71/100\n",
      "938/938 [==============================] - 193s 206ms/step - loss: 0.0731 - accuracy: 0.9855 - val_loss: 0.0608 - val_accuracy: 0.9876\n",
      "Epoch 72/100\n",
      "938/938 [==============================] - 194s 207ms/step - loss: 0.0904 - accuracy: 0.9819 - val_loss: 0.0688 - val_accuracy: 0.9852\n",
      "Epoch 73/100\n",
      "938/938 [==============================] - 192s 205ms/step - loss: 0.0731 - accuracy: 0.9853 - val_loss: 0.0809 - val_accuracy: 0.9835\n",
      "Epoch 74/100\n",
      "938/938 [==============================] - 192s 205ms/step - loss: 0.0819 - accuracy: 0.9835 - val_loss: 0.0778 - val_accuracy: 0.9865\n",
      "Epoch 75/100\n",
      "938/938 [==============================] - 193s 206ms/step - loss: 0.0933 - accuracy: 0.9816 - val_loss: 0.1153 - val_accuracy: 0.9736\n",
      "Epoch 76/100\n",
      "938/938 [==============================] - 193s 206ms/step - loss: 0.0857 - accuracy: 0.9828 - val_loss: 0.0639 - val_accuracy: 0.9866\n",
      "Epoch 77/100\n",
      "938/938 [==============================] - 193s 206ms/step - loss: 0.0747 - accuracy: 0.9853 - val_loss: 0.0700 - val_accuracy: 0.9869\n",
      "Epoch 78/100\n",
      "938/938 [==============================] - 193s 206ms/step - loss: 0.0794 - accuracy: 0.9847 - val_loss: 0.0576 - val_accuracy: 0.9880\n",
      "Epoch 79/100\n",
      "938/938 [==============================] - 192s 205ms/step - loss: 0.0784 - accuracy: 0.9838 - val_loss: 0.0797 - val_accuracy: 0.9862\n",
      "Epoch 80/100\n",
      "938/938 [==============================] - 193s 206ms/step - loss: 0.0815 - accuracy: 0.9835 - val_loss: 0.0645 - val_accuracy: 0.9865\n",
      "Epoch 81/100\n",
      "938/938 [==============================] - 192s 205ms/step - loss: 0.0860 - accuracy: 0.9831 - val_loss: 0.0566 - val_accuracy: 0.9879\n",
      "Epoch 82/100\n",
      "938/938 [==============================] - 194s 206ms/step - loss: 0.0845 - accuracy: 0.9832 - val_loss: 0.1360 - val_accuracy: 0.9810\n",
      "Epoch 83/100\n",
      "938/938 [==============================] - 194s 207ms/step - loss: 0.0962 - accuracy: 0.9809 - val_loss: 0.0710 - val_accuracy: 0.9874\n",
      "Epoch 84/100\n",
      "938/938 [==============================] - 194s 207ms/step - loss: 0.0811 - accuracy: 0.9840 - val_loss: 0.0731 - val_accuracy: 0.9844\n",
      "Epoch 85/100\n",
      "938/938 [==============================] - 193s 205ms/step - loss: 0.0730 - accuracy: 0.9852 - val_loss: 0.0922 - val_accuracy: 0.9847\n",
      "Epoch 86/100\n",
      "938/938 [==============================] - 193s 206ms/step - loss: 0.1089 - accuracy: 0.9808 - val_loss: 0.0575 - val_accuracy: 0.9877\n",
      "Epoch 87/100\n",
      "938/938 [==============================] - 194s 207ms/step - loss: 0.1005 - accuracy: 0.9801 - val_loss: 0.0686 - val_accuracy: 0.9867\n",
      "Epoch 88/100\n",
      "938/938 [==============================] - 193s 206ms/step - loss: 0.0729 - accuracy: 0.9859 - val_loss: 0.0730 - val_accuracy: 0.9885\n",
      "Epoch 89/100\n",
      "938/938 [==============================] - 193s 206ms/step - loss: 0.0796 - accuracy: 0.9849 - val_loss: 0.0935 - val_accuracy: 0.9798\n",
      "Epoch 90/100\n",
      "938/938 [==============================] - 193s 206ms/step - loss: 0.0789 - accuracy: 0.9837 - val_loss: 0.0777 - val_accuracy: 0.9871\n",
      "Epoch 91/100\n",
      "938/938 [==============================] - 192s 205ms/step - loss: 0.0760 - accuracy: 0.9849 - val_loss: 0.0588 - val_accuracy: 0.9894\n",
      "Epoch 92/100\n",
      "938/938 [==============================] - 193s 205ms/step - loss: 0.0910 - accuracy: 0.9822 - val_loss: 0.0924 - val_accuracy: 0.9856\n",
      "Epoch 93/100\n",
      "938/938 [==============================] - 193s 205ms/step - loss: 0.0728 - accuracy: 0.9849 - val_loss: 0.0671 - val_accuracy: 0.9874\n",
      "Epoch 94/100\n",
      "938/938 [==============================] - 194s 206ms/step - loss: 0.0884 - accuracy: 0.9833 - val_loss: 0.0638 - val_accuracy: 0.9875\n",
      "Epoch 95/100\n",
      "938/938 [==============================] - 194s 207ms/step - loss: 0.1026 - accuracy: 0.9813 - val_loss: 0.0692 - val_accuracy: 0.9848\n",
      "Epoch 96/100\n",
      "938/938 [==============================] - 193s 206ms/step - loss: 0.0791 - accuracy: 0.9845 - val_loss: 0.0687 - val_accuracy: 0.9890\n",
      "Epoch 97/100\n",
      "938/938 [==============================] - 192s 204ms/step - loss: 0.0721 - accuracy: 0.9859 - val_loss: 0.0570 - val_accuracy: 0.9885\n",
      "Epoch 98/100\n",
      "938/938 [==============================] - 194s 206ms/step - loss: 0.0888 - accuracy: 0.9832 - val_loss: 0.0869 - val_accuracy: 0.9841\n",
      "Epoch 99/100\n",
      "938/938 [==============================] - 193s 206ms/step - loss: 0.0808 - accuracy: 0.9838 - val_loss: 0.0662 - val_accuracy: 0.9866\n",
      "Epoch 100/100\n",
      "938/938 [==============================] - 193s 205ms/step - loss: 0.0819 - accuracy: 0.9843 - val_loss: 0.0701 - val_accuracy: 0.9872\n",
      "1875/1875 [==============================] - 30s 16ms/step - loss: 0.0427 - accuracy: 0.9912\n"
     ]
    }
   ],
   "source": [
    "# Load data MNIST data and normalize to [0, 1]\n",
    "(data_train, labels_train), (data_test, labels_test) = mnist.load_data()\n",
    "data_train = (data_train)/255.; print(tf.shape(data_train))\n",
    "data_test = (data_test)/255; print(tf.shape(data_test))\n",
    "\n",
    "#Reshape training and testing data into 784-dimensional vectors \n",
    "data_train = tf.reshape(data_train,[-1,28,28,1]); print(tf.shape(data_train))\n",
    "data_test = tf.reshape(data_test,[-1,28,28,1]); print(tf.shape(data_train))\n",
    "\n",
    "#Convert integer labels for training and testing data into one-hot vectors \n",
    "labels_train = keras.utils.np_utils.to_categorical(labels_train, num_classes=10);print(tf.shape(labels_train))\n",
    "labels_test  = keras.utils.np_utils.to_categorical(labels_test , num_classes=10);print(tf.shape(labels_test))\n",
    "\n",
    "num_samples=5000; n=28; num_channels=1; num_classes=10;\n",
    "\n",
    "#Create classifier architecture, compile it, and train it\n",
    "def CNN():\n",
    "    model = Sequential()\n",
    "\n",
    "    model.add(InputLayer(input_shape=(n,n,num_channels)))\n",
    "    model.add(Conv2D(256, kernel_size=(3,3), \n",
    "                     activation='relu',input_shape=(n,n,num_channels)))\n",
    "    model.add(Dropout(.3))\n",
    "    model.add(MaxPooling2D(pool_size=(2,2), strides=None, \n",
    "                           padding='Valid', data_format=None))\n",
    "    model.add(Conv2D(128, kernel_size=(3,3), \n",
    "                     activation='relu',input_shape=(n,n,num_channels)))\n",
    "    model.add(Dropout(.3))\n",
    "    model.add(MaxPooling2D(pool_size=(2,2), strides=None, \n",
    "                           padding='Valid', data_format=None))\n",
    "    model.add(Flatten())\n",
    "    model.add(Dense(100,activation='relu',kernel_initializer='normal'))\n",
    "    model.add(Dense(100,activation='relu',kernel_initializer='normal'))\n",
    "    model.add(Dense(num_classes,activation='softmax'))      \n",
    "    return model\n",
    "\n",
    "#Create instance of CNN model graph\n",
    "model = CNN()\n",
    "\n",
    "#Compile model using an appropriate loss and optimizer algorithm\n",
    "model.compile(loss=tf.keras.losses.categorical_crossentropy, optimizer=tf.keras.optimizers.Adam(learning_rate=0.01), metrics=['accuracy'])\n",
    "\n",
    "#Train the model and assign training meta-data to a variable\n",
    "model_mdata =  model.fit(data_train, labels_train, epochs=100,\n",
    "                        validation_data=(data_test, labels_test),\n",
    "                        batch_size=64,\n",
    "                        shuffle=True)\n",
    "hist_df = pd.DataFrame(model_mdata.history) \n",
    "CNN_dropout_hidden_file = 'CNN_mdata.csv'\n",
    "with open(CNN_dropout_hidden_file, mode='w') as f:\n",
    "    hist_df.to_csv(f)\n",
    "\n",
    "#Print accuracy of model on testing set after training \n",
    "scores_dropout_hidden = model.evaluate(data_train, labels_train)\n",
    "model.save(\"mnist_classified_CNN.h5\")\n",
    "\n",
    "\n"
   ]
  },
  {
   "cell_type": "code",
   "execution_count": 12,
   "metadata": {
    "colab": {},
    "colab_type": "code",
    "id": "uOsXwFOvrs14"
   },
   "outputs": [
    {
     "data": {
      "image/png": "[encoded data removed]",
      "text/plain": [
       "<Figure size 1440x360 with 2 Axes>"
      ]
     },
     "metadata": {
      "needs_background": "light"
     },
     "output_type": "display_data"
    },
    {
     "name": "stdout",
     "output_type": "stream",
     "text": [
      "    Unnamed: 0      loss  accuracy  val_loss  val_accuracy\n",
      "0            0  0.197056  0.939833  0.123725        0.9722\n",
      "1            1  0.105596  0.970600  0.095858        0.9797\n",
      "2            2  0.094559  0.973800  0.080390        0.9796\n",
      "3            3  0.091231  0.975417  0.066722        0.9831\n",
      "4            4  0.093768  0.975767  0.056649        0.9848\n",
      "..         ...       ...       ...       ...           ...\n",
      "95          95  0.088580  0.981350  0.075282        0.9857\n",
      "96          96  0.107364  0.979150  0.082272        0.9831\n",
      "97          97  0.101496  0.978233  0.178436        0.9772\n",
      "98          98  0.134864  0.975817  0.081924        0.9846\n",
      "99          99  0.074765  0.982083  0.107964        0.9824\n",
      "\n",
      "[100 rows x 5 columns]\n"
     ]
    }
   ],
   "source": [
    "def plotting(history,title):\n",
    "  plt.figure(figsize=(20,5))\n",
    "  plt.subplot(121)\n",
    "  plt.plot(history.accuracy)\n",
    "  plt.plot(history.val_accuracy)\n",
    "  plt.title('CNN Accuracy vs Epoch'); plt.ylabel('Accuracy'); plt.xlabel('Epoch')\n",
    "  plt.legend(['train','test']); \n",
    "  plt.subplot(122);\n",
    "  plt.plot(history.loss)\n",
    "  plt.plot(history.val_loss)\n",
    "  plt.title('CNN Loss vs Epoch'); plt.ylabel('Loss'); plt.xlabel('Epoch')\n",
    "  plt.legend(['train','test']); plt.suptitle(title); plt.show();\n",
    "#Plot loss vs epoch\n",
    "CNN_file = 'CNN_mdata.csv'\n",
    "history=pd.read_csv(CNN_file); \n",
    "plotting(history,'CNN')\n",
    "print(history)"
   ]
  },
  {
   "cell_type": "code",
   "execution_count": 13,
   "metadata": {
    "colab": {},
    "colab_type": "code",
    "id": "gr53zDpTr5wO"
   },
   "outputs": [
    {
     "name": "stdout",
     "output_type": "stream",
     "text": [
      "Accuracy: 98.74%\n"
     ]
    }
   ],
   "source": [
    "#Print accuracy of classifier on MNIST testing data\n",
    "print(\"Accuracy: %.2f%%\" %(scores_dropout_hidden[1]*100))"
   ]
  },
  {
   "cell_type": "code",
   "execution_count": 5,
   "metadata": {
    "colab": {},
    "colab_type": "code",
    "id": "YEcrqpjas3Xh"
   },
   "outputs": [
    {
     "name": "stdout",
     "output_type": "stream",
     "text": [
      "Model: \"sequential_1\"\n",
      "_________________________________________________________________\n",
      "Layer (type)                 Output Shape              Param #   \n",
      "=================================================================\n",
      "conv2d_2 (Conv2D)            (None, 26, 26, 256)       2560      \n",
      "_________________________________________________________________\n",
      "dropout_2 (Dropout)          (None, 26, 26, 256)       0         \n",
      "_________________________________________________________________\n",
      "max_pooling2d_2 (MaxPooling2 (None, 13, 13, 256)       0         \n",
      "_________________________________________________________________\n",
      "conv2d_3 (Conv2D)            (None, 11, 11, 128)       295040    \n",
      "_________________________________________________________________\n",
      "dropout_3 (Dropout)          (None, 11, 11, 128)       0         \n",
      "_________________________________________________________________\n",
      "max_pooling2d_3 (MaxPooling2 (None, 5, 5, 128)         0         \n",
      "_________________________________________________________________\n",
      "flatten_1 (Flatten)          (None, 3200)              0         \n",
      "_________________________________________________________________\n",
      "dense_3 (Dense)              (None, 100)               320100    \n",
      "_________________________________________________________________\n",
      "dense_4 (Dense)              (None, 100)               10100     \n",
      "_________________________________________________________________\n",
      "dense_5 (Dense)              (None, 10)                1010      \n",
      "=================================================================\n",
      "Total params: 628,810\n",
      "Trainable params: 628,810\n",
      "Non-trainable params: 0\n",
      "_________________________________________________________________\n"
     ]
    }
   ],
   "source": [
    "# Edit the classifier name fed into KerasModel Wrapper with the name of the \n",
    "model = tf.keras.models.load_model('mnist_classified_CNN.h5')\n",
    "\n",
    "# Check its architecture\n",
    "new_model.summary()\n",
    "# load('mnist_classified_CNN.h5')\n",
    "#Get TensorFlow Session to pass into Cleverhans modules\n",
    "sess = tf.compat.v1.keras.backend.get_session()\n",
    "\n",
    "#Create wrapper for classifier model so that it can be passed into Cleverhans modules\n",
    "wrap = KerasModelWrapper(model)"
   ]
  },
  {
   "cell_type": "markdown",
   "metadata": {
    "colab_type": "text",
    "id": "8_Ehc7tas5YS"
   },
   "source": [
    "#Part 2: The Fast Gradient Method (FGM)"
   ]
  },
  {
   "cell_type": "code",
   "execution_count": 6,
   "metadata": {},
   "outputs": [
    {
     "name": "stdout",
     "output_type": "stream",
     "text": [
      "WARNING:tensorflow:From /home/mohanp/.conda/envs/cent7/2020.11-py38/ML2/lib/python3.8/site-packages/keras/backend/tensorflow_backend.py:354: set_learning_phase (from tensorflow.python.keras.backend) is deprecated and will be removed after 2020-10-11.\n",
      "Instructions for updating:\n",
      "Simply pass a True/False value to the `training` argument of the `__call__` method of your layer or model.\n"
     ]
    },
    {
     "ename": "AttributeError",
     "evalue": "module 'tensorflow' has no attribute 'GraphKeys'",
     "output_type": "error",
     "traceback": [
      "\u001b[0;31m---------------------------------------------------------------------------\u001b[0m",
      "\u001b[0;31mAttributeError\u001b[0m                            Traceback (most recent call last)",
      "\u001b[0;32m/tmp/ipykernel_33187/1494593787.py\u001b[0m in \u001b[0;36m<module>\u001b[0;34m\u001b[0m\n\u001b[1;32m      4\u001b[0m \u001b[0;31m#FGM Instance on trained classifier from Part 1\u001b[0m\u001b[0;34m\u001b[0m\u001b[0;34m\u001b[0m\u001b[0;34m\u001b[0m\u001b[0m\n\u001b[1;32m      5\u001b[0m \u001b[0;31m#FILL THIS IN\u001b[0m\u001b[0;34m\u001b[0m\u001b[0;34m\u001b[0m\u001b[0;34m\u001b[0m\u001b[0m\n\u001b[0;32m----> 6\u001b[0;31m \u001b[0mfgm\u001b[0m \u001b[0;34m=\u001b[0m \u001b[0mFastGradientMethod\u001b[0m\u001b[0;34m(\u001b[0m\u001b[0mwrap\u001b[0m\u001b[0;34m,\u001b[0m \u001b[0msess\u001b[0m\u001b[0;34m=\u001b[0m\u001b[0msess\u001b[0m\u001b[0;34m)\u001b[0m\u001b[0;34m\u001b[0m\u001b[0;34m\u001b[0m\u001b[0m\n\u001b[0m\u001b[1;32m      7\u001b[0m \u001b[0;34m\u001b[0m\u001b[0m\n\u001b[1;32m      8\u001b[0m \u001b[0;31m#Attack parameters\u001b[0m\u001b[0;34m\u001b[0m\u001b[0;34m\u001b[0m\u001b[0;34m\u001b[0m\u001b[0m\n",
      "\u001b[0;32m~/.conda/envs/cent7/2020.11-py38/ML2/lib/python3.8/site-packages/cleverhans/attacks.py\u001b[0m in \u001b[0;36m__init__\u001b[0;34m(self, model, back, sess, dtypestr)\u001b[0m\n\u001b[1;32m    254\u001b[0m             \u001b[0mmodel\u001b[0m \u001b[0;34m=\u001b[0m \u001b[0mCallableModelWrapper\u001b[0m\u001b[0;34m(\u001b[0m\u001b[0mmodel\u001b[0m\u001b[0;34m,\u001b[0m \u001b[0;34m'probs'\u001b[0m\u001b[0;34m)\u001b[0m\u001b[0;34m\u001b[0m\u001b[0;34m\u001b[0m\u001b[0m\n\u001b[1;32m    255\u001b[0m \u001b[0;34m\u001b[0m\u001b[0m\n\u001b[0;32m--> 256\u001b[0;31m         \u001b[0msuper\u001b[0m\u001b[0;34m(\u001b[0m\u001b[0mFastGradientMethod\u001b[0m\u001b[0;34m,\u001b[0m \u001b[0mself\u001b[0m\u001b[0;34m)\u001b[0m\u001b[0;34m.\u001b[0m\u001b[0m__init__\u001b[0m\u001b[0;34m(\u001b[0m\u001b[0mmodel\u001b[0m\u001b[0;34m,\u001b[0m \u001b[0mback\u001b[0m\u001b[0;34m,\u001b[0m \u001b[0msess\u001b[0m\u001b[0;34m,\u001b[0m \u001b[0mdtypestr\u001b[0m\u001b[0;34m)\u001b[0m\u001b[0;34m\u001b[0m\u001b[0;34m\u001b[0m\u001b[0m\n\u001b[0m\u001b[1;32m    257\u001b[0m         self.feedable_kwargs = {'eps': self.np_dtype,\n\u001b[1;32m    258\u001b[0m                                 \u001b[0;34m'y'\u001b[0m\u001b[0;34m:\u001b[0m \u001b[0mself\u001b[0m\u001b[0;34m.\u001b[0m\u001b[0mnp_dtype\u001b[0m\u001b[0;34m,\u001b[0m\u001b[0;34m\u001b[0m\u001b[0;34m\u001b[0m\u001b[0m\n",
      "\u001b[0;32m~/.conda/envs/cent7/2020.11-py38/ML2/lib/python3.8/site-packages/cleverhans/attacks.py\u001b[0m in \u001b[0;36m__init__\u001b[0;34m(self, model, back, sess, dtypestr)\u001b[0m\n\u001b[1;32m     35\u001b[0m         \u001b[0mself\u001b[0m\u001b[0;34m.\u001b[0m\u001b[0mnp_dtype\u001b[0m \u001b[0;34m=\u001b[0m \u001b[0mnp\u001b[0m\u001b[0;34m.\u001b[0m\u001b[0mdtype\u001b[0m\u001b[0;34m(\u001b[0m\u001b[0mdtypestr\u001b[0m\u001b[0;34m)\u001b[0m\u001b[0;34m\u001b[0m\u001b[0;34m\u001b[0m\u001b[0m\n\u001b[1;32m     36\u001b[0m \u001b[0;34m\u001b[0m\u001b[0m\n\u001b[0;32m---> 37\u001b[0;31m         \u001b[0;32mimport\u001b[0m \u001b[0mcleverhans\u001b[0m\u001b[0;34m.\u001b[0m\u001b[0mattacks_tf\u001b[0m \u001b[0;32mas\u001b[0m \u001b[0mattacks_tf\u001b[0m\u001b[0;34m\u001b[0m\u001b[0;34m\u001b[0m\u001b[0m\n\u001b[0m\u001b[1;32m     38\u001b[0m         \u001b[0mattacks_tf\u001b[0m\u001b[0;34m.\u001b[0m\u001b[0mnp_dtype\u001b[0m \u001b[0;34m=\u001b[0m \u001b[0mself\u001b[0m\u001b[0;34m.\u001b[0m\u001b[0mnp_dtype\u001b[0m\u001b[0;34m\u001b[0m\u001b[0;34m\u001b[0m\u001b[0m\n\u001b[1;32m     39\u001b[0m         \u001b[0mattacks_tf\u001b[0m\u001b[0;34m.\u001b[0m\u001b[0mtf_dtype\u001b[0m \u001b[0;34m=\u001b[0m \u001b[0mself\u001b[0m\u001b[0;34m.\u001b[0m\u001b[0mtf_dtype\u001b[0m\u001b[0;34m\u001b[0m\u001b[0;34m\u001b[0m\u001b[0m\n",
      "\u001b[0;32m~/.conda/envs/cent7/2020.11-py38/ML2/lib/python3.8/site-packages/cleverhans/attacks_tf.py\u001b[0m in \u001b[0;36m<module>\u001b[0;34m\u001b[0m\n\u001b[1;32m     10\u001b[0m \u001b[0;32mimport\u001b[0m \u001b[0mwarnings\u001b[0m\u001b[0;34m\u001b[0m\u001b[0;34m\u001b[0m\u001b[0m\n\u001b[1;32m     11\u001b[0m \u001b[0;34m\u001b[0m\u001b[0m\n\u001b[0;32m---> 12\u001b[0;31m \u001b[0;32mfrom\u001b[0m \u001b[0;34m.\u001b[0m \u001b[0;32mimport\u001b[0m \u001b[0mutils_tf\u001b[0m\u001b[0;34m\u001b[0m\u001b[0;34m\u001b[0m\u001b[0m\n\u001b[0m\u001b[1;32m     13\u001b[0m \u001b[0;32mfrom\u001b[0m \u001b[0;34m.\u001b[0m \u001b[0;32mimport\u001b[0m \u001b[0mutils\u001b[0m\u001b[0;34m\u001b[0m\u001b[0;34m\u001b[0m\u001b[0m\n\u001b[1;32m     14\u001b[0m \u001b[0;34m\u001b[0m\u001b[0m\n",
      "\u001b[0;32m~/.conda/envs/cent7/2020.11-py38/ML2/lib/python3.8/site-packages/cleverhans/utils_tf.py\u001b[0m in \u001b[0;36m<module>\u001b[0;34m\u001b[0m\n\u001b[1;32m    366\u001b[0m \u001b[0;34m\u001b[0m\u001b[0m\n\u001b[1;32m    367\u001b[0m def kl_with_logits(p_logits, q_logits, scope=None,\n\u001b[0;32m--> 368\u001b[0;31m                    loss_collection=tf.GraphKeys.REGULARIZATION_LOSSES):\n\u001b[0m\u001b[1;32m    369\u001b[0m     \"\"\"Helper function to compute kl-divergence KL(p || q)\n\u001b[1;32m    370\u001b[0m     \"\"\"\n",
      "\u001b[0;31mAttributeError\u001b[0m: module 'tensorflow' has no attribute 'GraphKeys'"
     ]
    }
   ],
   "source": [
    "#Implementing the FGSM attack\n",
    "backend.set_learning_phase(0)\n",
    "\n",
    "#FGM Instance on trained classifier from Part 1\n",
    "#FILL THIS IN\n",
    "fgm = FastGradientMethod(wrap, sess=sess)\n",
    "\n",
    "#Attack parameters\n",
    "#FILL THIS IN\n",
    "fgm_params = { 'eps': 0.25, 'clip_min': 0.0, 'clip_max': 1.0}\n",
    "\n",
    "#Generate adversarial data\n",
    "#FILL THIS IN\n",
    "fgm_data = fgm.generate_np(data_test, **fgm_params)\n",
    "\n",
    "#Evaluate accuracy on target classifier \n",
    "#FILL THIS IN\n",
    "# backend.set_learning_phase(0)\n",
    "[test_loss_fgm, test_acc_fgm] = model.evaluate(fgm_data, labels_test, batch_size = 512)\n",
    "print(\"Test Accuracy: {:0.2f}%\".format(test_acc_fgm*100))"
   ]
  },
  {
   "cell_type": "code",
   "execution_count": 0,
   "metadata": {
    "colab": {},
    "colab_type": "code",
    "collapsed": true,
    "id": "GA5T9mkws9vJ"
   },
   "outputs": [],
   "source": [
    "#Implementing the FGSM attack\n",
    "\n",
    "#FGM Instance on trained classifier from Part 1\n",
    "#FILL THIS IN\n",
    "\n",
    "#Attack parameters\n",
    "#FILL THIS IN\n",
    "\n",
    "#Generate adversarial data\n",
    "#FILL THIS IN\n",
    "\n",
    "#Evaluate accuracy on target classifier \n",
    "#FILL THIS IN\n"
   ]
  },
  {
   "cell_type": "code",
   "execution_count": 0,
   "metadata": {
    "colab": {},
    "colab_type": "code",
    "collapsed": true,
    "id": "wE_rdYIrDeNZ"
   },
   "outputs": [],
   "source": [
    "#Show ten original samples and their corresponding adversarial samples\n",
    "#FILL THIS IN"
   ]
  },
  {
   "cell_type": "code",
   "execution_count": 0,
   "metadata": {
    "colab": {},
    "colab_type": "code",
    "collapsed": true,
    "id": "qurgywiaJe-I"
   },
   "outputs": [],
   "source": [
    "#Implementing Detection via Autoencoders\n",
    "\n",
    "def autoencoder():\n",
    "    ae = Sequential()\n",
    "    ae.add(Dense(400, activation=None, kernel_initializer=\"normal\", input_dim=784))\n",
    "    ae.add(Dense(200, activation=None, kernel_initializer='normal'))\n",
    "    ae.add(Dense(100, activation=None, kernel_initializer='normal'))\n",
    "    ae.add(Dense(200, activation=None, kernel_initializer='normal'))\n",
    "    ae.add(Dense(400, activation=None, kernel_initializer='normal'))\n",
    "    ae.add(Dense(784, activation='sigmoid', kernel_initializer='normal'))\n",
    "    return ae\n",
    "\n",
    "#Create and train the autoencoder using the mean squared error loss and adam optimizer\n",
    "#FILL THIS IN"
   ]
  },
  {
   "cell_type": "code",
   "execution_count": 0,
   "metadata": {
    "colab": {},
    "colab_type": "code",
    "collapsed": true,
    "id": "sGVPbCP_JvDo"
   },
   "outputs": [],
   "source": [
    "#Using the autoencoder for detection and to determine a threshold \n",
    "\n",
    "# Create adversarial examples using FGSM on training data\n",
    "#FILL THIS IN\n",
    "\n",
    "# Obtain reconstruction errors on training set and determine a threshold \n",
    "#FILL THIS IN\n",
    "\n",
    "# Convert error tensor into NumPy array \n",
    "# CHANGE NAME 'error' TO WHAT YOU CALLED IT ABOVE\n",
    "error = error.eval(session=sess)\n",
    "\n",
    "# Determine threshold (based on min in this case) and print it \n",
    "#FILL THIS IN\n",
    "\n",
    "# Calculate error of adversarial testing set\n",
    "#FILL THIS IN\n",
    "\n",
    "# Determine how many examples are above threshold and consider them adversarial\n",
    "# (true positive count)\n",
    "# Hint: Use a 'for' loop to compare each error value to the threshold\n",
    "#FILL THIS IN\n",
    "\n",
    "# Print number of true positive samples\n",
    "#FILL THIS IN  \n",
    "\n",
    "# Determine false positives on benign testing set\n",
    "#FILL THIS IN \n",
    "\n",
    "\n",
    "# Determine how many examples are above threshold and consider them adversarial\n",
    "# (false positive count)\n",
    "# Hint: Use a 'for' loop to compare each error value to the threshold\n",
    "#FILL THIS IN \n",
    "    \n",
    "# Print number of false positive samples\n",
    "#FILL THIS IN   "
   ]
  },
  {
   "cell_type": "markdown",
   "metadata": {
    "colab_type": "text",
    "id": "VE2WG6LnP14d"
   },
   "source": [
    "#Part 3: Projected Gradient Descent"
   ]
  },
  {
   "cell_type": "code",
   "execution_count": 0,
   "metadata": {
    "colab": {},
    "colab_type": "code",
    "collapsed": true,
    "id": "iEkYKPN-P4Sj"
   },
   "outputs": [],
   "source": [
    "#Implementing the PGD attack\n",
    "\n",
    "#PGD Instance on trained classifier from Part 1\n",
    "pgd = MadryEtAl(wrap, sess=sess)\n",
    "\n",
    "#Attack parameters\n",
    "#FILL THIS IN\n",
    "\n",
    "#Generate adversarial data\n",
    "#FILL THIS IN\n",
    "\n",
    "#Evaluate accuracy of perturbed data on target classifier\n",
    "#FILL THIS IN"
   ]
  },
  {
   "cell_type": "code",
   "execution_count": 0,
   "metadata": {
    "colab": {},
    "colab_type": "code",
    "collapsed": true,
    "id": "urEHSPQISer1"
   },
   "outputs": [],
   "source": [
    "#Show ten original samples and their corresponding adversarial samples\n",
    "#FILL THIS IN "
   ]
  },
  {
   "cell_type": "code",
   "execution_count": 0,
   "metadata": {
    "colab": {},
    "colab_type": "code",
    "collapsed": true,
    "id": "gTygGikdUWU8"
   },
   "outputs": [],
   "source": [
    "#Implementing the adversarial training defense\n",
    "#FILL THIS IN"
   ]
  },
  {
   "cell_type": "code",
   "execution_count": 0,
   "metadata": {
    "colab": {},
    "colab_type": "code",
    "collapsed": true,
    "id": "i6dMEXGBUlci"
   },
   "outputs": [],
   "source": [
    "#Using the defense to evaluate the accuracy of the perturbed data\n",
    "#FILL THIS IN "
   ]
  },
  {
   "cell_type": "markdown",
   "metadata": {
    "colab_type": "text",
    "id": "MqIEiMdar_5q"
   },
   "source": [
    "#Part 4: Carlini and Wagner Attack"
   ]
  },
  {
   "cell_type": "code",
   "execution_count": 0,
   "metadata": {
    "colab": {},
    "colab_type": "code",
    "collapsed": true,
    "id": "oyyNb-v5sCY6"
   },
   "outputs": [],
   "source": [
    "#Implementing the CW attack\n",
    "\n",
    "#CW Instance on trained classifier from Part 1\n",
    "#FILL THIS IN\n",
    "\n",
    "\n",
    "#Attack parameters\n",
    "#FILL THIS IN\n",
    "\n",
    "\n",
    "#Generate adversarial data\n",
    "#FILL THIS IN\n",
    "\n",
    "\n",
    "#Evaluate accuracy of perturbed data on target classifier\n",
    "#FILL THIS IN"
   ]
  },
  {
   "cell_type": "code",
   "execution_count": 0,
   "metadata": {
    "colab": {},
    "colab_type": "code",
    "collapsed": true,
    "id": "rlEMqrlPurRL"
   },
   "outputs": [],
   "source": [
    "#Show ten original samples and their corresponding adversarial samples\n",
    "#FILL THIS IN "
   ]
  },
  {
   "cell_type": "code",
   "execution_count": 0,
   "metadata": {
    "colab": {},
    "colab_type": "code",
    "collapsed": true,
    "id": "P-VhQHQ2uvmV"
   },
   "outputs": [],
   "source": [
    "#Implementing the dimensionality reduction (PCA) defense \n",
    "\n",
    "#Calculate PCA projection\n",
    "pca = PCA(100)\n",
    "pca.fit(data_train)\n",
    "pca_train = pca.transform(data_train)\n",
    "pca_test = pca.transform(data_test)\n",
    "\n",
    "#Transform perturbed CW data using the subspace from the original training data\n",
    "#FILL THIS IN \n",
    "\n",
    "# create model for PCA\n",
    "def pca_model():\n",
    "    model = Sequential()\n",
    "    \n",
    "    #FILL THIS IN \n",
    "\n",
    "    return model\n",
    "\n",
    "#Create model graph, compile it, and train it using pca_train lables_train \n",
    "#FILL THIS IN "
   ]
  },
  {
   "cell_type": "code",
   "execution_count": 0,
   "metadata": {
    "colab": {},
    "colab_type": "code",
    "collapsed": true,
    "id": "o9L61AfG2y94"
   },
   "outputs": [],
   "source": [
    "#Using the defense (and comparing to baseline accuracy)\n",
    "#FILL THIS IN "
   ]
  },
  {
   "cell_type": "markdown",
   "metadata": {
    "colab_type": "text",
    "id": "KP0mENqGhDt0"
   },
   "source": [
    "#Part 5: DeepFool "
   ]
  },
  {
   "cell_type": "code",
   "execution_count": 0,
   "metadata": {
    "colab": {},
    "colab_type": "code",
    "collapsed": true,
    "id": "zHraovc2hES3"
   },
   "outputs": [],
   "source": [
    "#Implementing the DeepFool attack\n",
    "\n",
    "#DeepFool Instance on trained classifier from Part 1\n",
    "#FILL THIS IN\n",
    "\n",
    "\n",
    "#Attack parameters\n",
    "#FILL THIS IN\n",
    "\n",
    "\n",
    "#Generate adversarial data\n",
    "#FILL THIS IN\n",
    "\n",
    "\n",
    "#Evaluate accuracy of perturbed data on target classifier\n",
    "#FILL THIS IN"
   ]
  },
  {
   "cell_type": "code",
   "execution_count": 0,
   "metadata": {
    "colab": {},
    "colab_type": "code",
    "collapsed": true,
    "id": "zEsLfmxThZ6M"
   },
   "outputs": [],
   "source": [
    "#Show ten original samples and their corresponding adversarial samples\n",
    "#FILL THIS IN"
   ]
  },
  {
   "cell_type": "code",
   "execution_count": 0,
   "metadata": {
    "colab": {},
    "colab_type": "code",
    "collapsed": true,
    "id": "tOapt7QaM4U_"
   },
   "outputs": [],
   "source": [
    "#Implementing the Denoising Autoencoder Defense\n",
    "\n",
    "def autoencoder():\n",
    "    ae = Sequential()\n",
    "    ae.add(Dense(400, activation=None, kernel_initializer=\"normal\", input_dim=784))\n",
    "    ae.add(Dense(200, activation=None, kernel_initializer='normal'))\n",
    "    ae.add(Dense(100, activation=None, kernel_initializer='normal'))\n",
    "    ae.add(Dense(200, activation=None, kernel_initializer='normal'))\n",
    "    ae.add(Dense(400, activation=None, kernel_initializer='normal'))\n",
    "    ae.add(Dense(784, activation='sigmoid', kernel_initializer='normal'))\n",
    "    return ae\n",
    "\n",
    "#Create training data for DAE \n",
    "df_attack_data_train = deepfool.generate_np(data_train, **fgm_params)\n",
    "data_total_train = np.concatenate([df_attack_data_train, data_train])\n",
    "\n",
    "#Create and train DAE graph\n",
    "#FILL THIS IN"
   ]
  },
  {
   "cell_type": "code",
   "execution_count": 0,
   "metadata": {
    "colab": {},
    "colab_type": "code",
    "collapsed": true,
    "id": "5CjKifVRNMMV"
   },
   "outputs": [],
   "source": [
    "#Using the defense\n",
    "\n",
    "#Use DAE to to remove adversarial perturbation \n",
    "#FILL THIS IN\n",
    "\n",
    "#Evaluate accuracy of FGM samples after denoising \n",
    "#FILL THIS IN"
   ]
  },
  {
   "cell_type": "code",
   "execution_count": 0,
   "metadata": {
    "colab": {},
    "colab_type": "code",
    "collapsed": true,
    "id": "6NSAW0v3NSMB"
   },
   "outputs": [],
   "source": [
    "#Show ten samples of adversarial samples after denoising\n",
    "#FILL THIS IN"
   ]
  }
 ],
 "metadata": {
  "colab": {
   "name": "Project_4_Student.ipynb",
   "provenance": []
  },
  "kernelspec": {
   "display_name": "Python (My ML2 Kernel)",
   "language": "python",
   "name": "ml2"
  },
  "language_info": {
   "codemirror_mode": {
    "name": "ipython",
    "version": 3
   },
   "file_extension": ".py",
   "mimetype": "text/x-python",
   "name": "python",
   "nbconvert_exporter": "python",
   "pygments_lexer": "ipython3",
   "version": "3.8.12"
  }
 },
 "nbformat": 4,
 "nbformat_minor": 1
}
